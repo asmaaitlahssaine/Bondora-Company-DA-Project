{
 "cells": [
  {
   "cell_type": "code",
   "execution_count": 1,
   "id": "13ee7f26-4188-45cd-bed0-1e5540ac26a0",
   "metadata": {},
   "outputs": [],
   "source": [
    "import pandas as pd \n",
    "import numpy as np\n",
    "file_path = './Bondora_raw.csv'\n",
    "df = pd.read_csv(file_path, low_memory=False)"
   ]
  },
  {
   "cell_type": "code",
   "execution_count": 2,
   "id": "d4b3eb70-8b5f-4872-aca1-abc148b73a1a",
   "metadata": {},
   "outputs": [
    {
     "data": {
      "text/html": [
       "<div>\n",
       "<style scoped>\n",
       "    .dataframe tbody tr th:only-of-type {\n",
       "        vertical-align: middle;\n",
       "    }\n",
       "\n",
       "    .dataframe tbody tr th {\n",
       "        vertical-align: top;\n",
       "    }\n",
       "\n",
       "    .dataframe thead th {\n",
       "        text-align: right;\n",
       "    }\n",
       "</style>\n",
       "<table border=\"1\" class=\"dataframe\">\n",
       "  <thead>\n",
       "    <tr style=\"text-align: right;\">\n",
       "      <th></th>\n",
       "      <th>ReportAsOfEOD</th>\n",
       "      <th>LoanId</th>\n",
       "      <th>LoanNumber</th>\n",
       "      <th>ListedOnUTC</th>\n",
       "      <th>BiddingStartedOn</th>\n",
       "      <th>BidsPortfolioManager</th>\n",
       "      <th>BidsApi</th>\n",
       "      <th>BidsManual</th>\n",
       "      <th>UserName</th>\n",
       "      <th>NewCreditCustomer</th>\n",
       "      <th>...</th>\n",
       "      <th>PreviousEarlyRepaymentsCountBeforeLoan</th>\n",
       "      <th>GracePeriodStart</th>\n",
       "      <th>GracePeriodEnd</th>\n",
       "      <th>NextPaymentDate</th>\n",
       "      <th>NextPaymentNr</th>\n",
       "      <th>NrOfScheduledPayments</th>\n",
       "      <th>ReScheduledOn</th>\n",
       "      <th>PrincipalDebtServicingCost</th>\n",
       "      <th>InterestAndPenaltyDebtServicingCost</th>\n",
       "      <th>ActiveLateLastPaymentCategory</th>\n",
       "    </tr>\n",
       "  </thead>\n",
       "  <tbody>\n",
       "    <tr>\n",
       "      <th>0</th>\n",
       "      <td>2020-01-27</td>\n",
       "      <td>F0660C80-83F3-4A97-8DA0-9C250112D6EC</td>\n",
       "      <td>659</td>\n",
       "      <td>2009-06-11 16:40:39</td>\n",
       "      <td>2009-06-11 16:40:39</td>\n",
       "      <td>0</td>\n",
       "      <td>0</td>\n",
       "      <td>115.0410</td>\n",
       "      <td>KARU</td>\n",
       "      <td>True</td>\n",
       "      <td>...</td>\n",
       "      <td>0</td>\n",
       "      <td>NaN</td>\n",
       "      <td>NaN</td>\n",
       "      <td>NaN</td>\n",
       "      <td>NaN</td>\n",
       "      <td>NaN</td>\n",
       "      <td>NaN</td>\n",
       "      <td>0.0</td>\n",
       "      <td>0.0</td>\n",
       "      <td>NaN</td>\n",
       "    </tr>\n",
       "    <tr>\n",
       "      <th>1</th>\n",
       "      <td>2020-01-27</td>\n",
       "      <td>978BB85B-1C69-4D51-8447-9C240104A3A2</td>\n",
       "      <td>654</td>\n",
       "      <td>2009-06-10 15:48:57</td>\n",
       "      <td>2009-06-10 15:48:57</td>\n",
       "      <td>0</td>\n",
       "      <td>0</td>\n",
       "      <td>140.6057</td>\n",
       "      <td>koort681</td>\n",
       "      <td>False</td>\n",
       "      <td>...</td>\n",
       "      <td>0</td>\n",
       "      <td>NaN</td>\n",
       "      <td>NaN</td>\n",
       "      <td>NaN</td>\n",
       "      <td>NaN</td>\n",
       "      <td>NaN</td>\n",
       "      <td>NaN</td>\n",
       "      <td>0.0</td>\n",
       "      <td>0.0</td>\n",
       "      <td>NaN</td>\n",
       "    </tr>\n",
       "    <tr>\n",
       "      <th>2</th>\n",
       "      <td>2020-01-27</td>\n",
       "      <td>EA44027E-7FA7-4BB2-846D-9C1F013C8A22</td>\n",
       "      <td>641</td>\n",
       "      <td>2009-06-05 19:12:29</td>\n",
       "      <td>2009-06-05 19:12:29</td>\n",
       "      <td>0</td>\n",
       "      <td>0</td>\n",
       "      <td>319.5580</td>\n",
       "      <td>0ie</td>\n",
       "      <td>True</td>\n",
       "      <td>...</td>\n",
       "      <td>0</td>\n",
       "      <td>NaN</td>\n",
       "      <td>NaN</td>\n",
       "      <td>NaN</td>\n",
       "      <td>NaN</td>\n",
       "      <td>NaN</td>\n",
       "      <td>NaN</td>\n",
       "      <td>0.0</td>\n",
       "      <td>0.0</td>\n",
       "      <td>180+</td>\n",
       "    </tr>\n",
       "    <tr>\n",
       "      <th>3</th>\n",
       "      <td>2020-01-27</td>\n",
       "      <td>CE67AD25-2951-4BEE-96BD-9C2700C61EF4</td>\n",
       "      <td>668</td>\n",
       "      <td>2009-06-13 12:01:20</td>\n",
       "      <td>2009-06-13 12:01:20</td>\n",
       "      <td>0</td>\n",
       "      <td>0</td>\n",
       "      <td>57.5205</td>\n",
       "      <td>Alyona</td>\n",
       "      <td>True</td>\n",
       "      <td>...</td>\n",
       "      <td>0</td>\n",
       "      <td>NaN</td>\n",
       "      <td>NaN</td>\n",
       "      <td>NaN</td>\n",
       "      <td>NaN</td>\n",
       "      <td>NaN</td>\n",
       "      <td>NaN</td>\n",
       "      <td>0.0</td>\n",
       "      <td>0.0</td>\n",
       "      <td>NaN</td>\n",
       "    </tr>\n",
       "    <tr>\n",
       "      <th>4</th>\n",
       "      <td>2020-01-27</td>\n",
       "      <td>9408BF8C-B159-4D6A-9D61-9C2400A986E3</td>\n",
       "      <td>652</td>\n",
       "      <td>2009-06-10 10:17:13</td>\n",
       "      <td>2009-06-10 10:17:13</td>\n",
       "      <td>0</td>\n",
       "      <td>0</td>\n",
       "      <td>319.5582</td>\n",
       "      <td>Kai</td>\n",
       "      <td>True</td>\n",
       "      <td>...</td>\n",
       "      <td>0</td>\n",
       "      <td>NaN</td>\n",
       "      <td>NaN</td>\n",
       "      <td>NaN</td>\n",
       "      <td>NaN</td>\n",
       "      <td>NaN</td>\n",
       "      <td>NaN</td>\n",
       "      <td>0.0</td>\n",
       "      <td>0.0</td>\n",
       "      <td>180+</td>\n",
       "    </tr>\n",
       "  </tbody>\n",
       "</table>\n",
       "<p>5 rows × 112 columns</p>\n",
       "</div>"
      ],
      "text/plain": [
       "  ReportAsOfEOD                                LoanId  LoanNumber  \\\n",
       "0    2020-01-27  F0660C80-83F3-4A97-8DA0-9C250112D6EC         659   \n",
       "1    2020-01-27  978BB85B-1C69-4D51-8447-9C240104A3A2         654   \n",
       "2    2020-01-27  EA44027E-7FA7-4BB2-846D-9C1F013C8A22         641   \n",
       "3    2020-01-27  CE67AD25-2951-4BEE-96BD-9C2700C61EF4         668   \n",
       "4    2020-01-27  9408BF8C-B159-4D6A-9D61-9C2400A986E3         652   \n",
       "\n",
       "           ListedOnUTC     BiddingStartedOn  BidsPortfolioManager  BidsApi  \\\n",
       "0  2009-06-11 16:40:39  2009-06-11 16:40:39                     0        0   \n",
       "1  2009-06-10 15:48:57  2009-06-10 15:48:57                     0        0   \n",
       "2  2009-06-05 19:12:29  2009-06-05 19:12:29                     0        0   \n",
       "3  2009-06-13 12:01:20  2009-06-13 12:01:20                     0        0   \n",
       "4  2009-06-10 10:17:13  2009-06-10 10:17:13                     0        0   \n",
       "\n",
       "   BidsManual  UserName  NewCreditCustomer  ...  \\\n",
       "0    115.0410      KARU               True  ...   \n",
       "1    140.6057  koort681              False  ...   \n",
       "2    319.5580       0ie               True  ...   \n",
       "3     57.5205    Alyona               True  ...   \n",
       "4    319.5582       Kai               True  ...   \n",
       "\n",
       "  PreviousEarlyRepaymentsCountBeforeLoan GracePeriodStart GracePeriodEnd  \\\n",
       "0                                      0              NaN            NaN   \n",
       "1                                      0              NaN            NaN   \n",
       "2                                      0              NaN            NaN   \n",
       "3                                      0              NaN            NaN   \n",
       "4                                      0              NaN            NaN   \n",
       "\n",
       "  NextPaymentDate NextPaymentNr NrOfScheduledPayments  ReScheduledOn  \\\n",
       "0             NaN           NaN                   NaN            NaN   \n",
       "1             NaN           NaN                   NaN            NaN   \n",
       "2             NaN           NaN                   NaN            NaN   \n",
       "3             NaN           NaN                   NaN            NaN   \n",
       "4             NaN           NaN                   NaN            NaN   \n",
       "\n",
       "   PrincipalDebtServicingCost  InterestAndPenaltyDebtServicingCost  \\\n",
       "0                         0.0                                  0.0   \n",
       "1                         0.0                                  0.0   \n",
       "2                         0.0                                  0.0   \n",
       "3                         0.0                                  0.0   \n",
       "4                         0.0                                  0.0   \n",
       "\n",
       "   ActiveLateLastPaymentCategory  \n",
       "0                            NaN  \n",
       "1                            NaN  \n",
       "2                           180+  \n",
       "3                            NaN  \n",
       "4                           180+  \n",
       "\n",
       "[5 rows x 112 columns]"
      ]
     },
     "execution_count": 2,
     "metadata": {},
     "output_type": "execute_result"
    }
   ],
   "source": [
    "df.head()"
   ]
  },
  {
   "cell_type": "markdown",
   "id": "d73e3b41-c6b4-4cbf-9910-c7f332a00b79",
   "metadata": {},
   "source": [
    "#  ActiveLateCategory"
   ]
  },
  {
   "cell_type": "code",
   "execution_count": 3,
   "id": "afd4dcff-fee4-4b5e-8309-c67cd00a5384",
   "metadata": {},
   "outputs": [
    {
     "name": "stdout",
     "output_type": "stream",
     "text": [
      "Number of NaN values in 'ActiveLateCategory': 134529\n",
      "Number of NaN values in 'ActiveLateCategory': 0\n"
     ]
    }
   ],
   "source": [
    "# Convert the 'ActiveLateCategory' column to numeric, coercing errors to NaN\n",
    "df['ActiveLateCategory'] = pd.to_numeric(df['ActiveLateCategory'], errors='coerce')\n",
    "\n",
    "# Check for any NaN values that couldn't be converted\n",
    "nan_values = df['ActiveLateCategory'].isna().sum()\n",
    "print(f\"Number of NaN values in 'ActiveLateCategory': {nan_values}\")\n",
    "\n",
    "# You may need to handle NaN values here, depending on your data\n",
    "# For now, let's fill NaN with 0 or any other appropriate value\n",
    "# Handle NaN values by filling them with 0 or another appropriate value\n",
    "df['ActiveLateCategory'] = df['ActiveLateCategory'].fillna(0)\n",
    "# Define the categorization function again\n",
    "def categorize_active_late(days):\n",
    "    if days < 30:\n",
    "        return '0-30 days'\n",
    "    elif 30 <= days < 60:\n",
    "        return '30-60 days'\n",
    "    elif 60 <= days < 90:\n",
    "        return '60-90 days'\n",
    "    else:\n",
    "        return '90+ days'\n",
    "\n",
    "# Apply the categorization\n",
    "df['ActiveLateCategory'] = df['ActiveLateCategory'].apply(categorize_active_late)\n",
    "nan_values = df['ActiveLateCategory'].isna().sum()\n",
    "\n",
    "print(f\"Number of NaN values in 'ActiveLateCategory': {nan_values}\")\n",
    "\n"
   ]
  },
  {
   "cell_type": "markdown",
   "id": "09f49ad4-3dc9-4fbe-a5b0-81e3440f1025",
   "metadata": {},
   "source": [
    "# ActiveLateLastPaymentCategory  "
   ]
  },
  {
   "cell_type": "code",
   "execution_count": 11,
   "id": "e670eee8-80bf-4cfa-a45c-2377302d4cbd",
   "metadata": {},
   "outputs": [
    {
     "name": "stdout",
     "output_type": "stream",
     "text": [
      "['0-30 days']\n"
     ]
    }
   ],
   "source": [
    "# Convert the 'ActiveLateLastPaymentCategory' column to numeric, coercing errors to NaN\n",
    "df['ActiveLateLastPaymentCategory'] = pd.to_numeric(df['ActiveLateLastPaymentCategory'], errors='coerce')\n",
    "\n",
    "# Handle NaN values by filling them with 0 or another appropriate value\n",
    "df['ActiveLateLastPaymentCategory'] = df['ActiveLateLastPaymentCategory'].fillna(0)\n",
    "# Define the categorization function\n",
    "def categorize_last_payment(days):\n",
    "    if days < 30:\n",
    "        return '0-30 days'\n",
    "    elif 30 <= days < 60:\n",
    "        return '30-60 days'\n",
    "    elif 60 <= days < 90:\n",
    "        return '60-90 days'\n",
    "    else:\n",
    "        return '90+ days'\n",
    "\n",
    "# Apply the categorization\n",
    "df['ActiveLateLastPaymentCategory'] = df['ActiveLateLastPaymentCategory'].apply(lambda x: categorize_last_payment(x))\n",
    "# Display the unique categories to verify\n",
    "print(df['ActiveLateLastPaymentCategory'].unique())\n"
   ]
  },
  {
   "cell_type": "markdown",
   "id": "140f95e8-2790-43ae-bf9f-f3571274ae13",
   "metadata": {},
   "source": [
    "# ActiveScheduleFirstPaymentReached"
   ]
  },
  {
   "cell_type": "code",
   "execution_count": 4,
   "id": "352c2ad8-a420-4996-8bd1-c77e33a93e3f",
   "metadata": {},
   "outputs": [
    {
     "name": "stdout",
     "output_type": "stream",
     "text": [
      "[ True False]\n",
      "        ActiveScheduleFirstPaymentReached  \\\n",
      "134524                               True   \n",
      "134525                               True   \n",
      "134526                               True   \n",
      "134527                               True   \n",
      "134528                               True   \n",
      "\n",
      "        ActiveScheduleFirstPaymentReached_Cleaned  \n",
      "134524                                       True  \n",
      "134525                                       True  \n",
      "134526                                       True  \n",
      "134527                                       True  \n",
      "134528                                       True  \n"
     ]
    }
   ],
   "source": [
    "print(df['ActiveScheduleFirstPaymentReached'].unique())\n",
    "def clean_active_schedule(value):\n",
    "    # Keep boolean values as they are\n",
    "    if isinstance(value, bool):\n",
    "        return value\n",
    "    \n",
    "    # Handle numeric values or any non-boolean data\n",
    "    try:\n",
    "        numeric_value = float(value)\n",
    "        # Convert numbers to a boolean, assuming a threshold (e.g., if you want to treat numbers as True/False)\n",
    "        # Here we assume any non-zero number should be treated as True, adjust as needed.\n",
    "        return numeric_value != 0\n",
    "    except ValueError:\n",
    "        pass  # If it's not a number, continue to the next check\n",
    "    \n",
    "    # Handle invalid entries like the string \"ActiveScheduleFirstPaymentReached\"\n",
    "    if str(value).strip() == \"ActiveScheduleFirstPaymentReached\":\n",
    "        return np.nan  # Replace with NaN or False, depending on your needs\n",
    "    \n",
    "    # Return NaN for any unexpected values\n",
    "    return np.nan\n",
    "\n",
    "\n",
    "\n",
    "# Apply the cleaning function to the column\n",
    "df['ActiveScheduleFirstPaymentReached_Cleaned'] = df['ActiveScheduleFirstPaymentReached'].apply(clean_active_schedule)\n",
    "\n",
    "# Verify the cleaned data\n",
    "print(df[['ActiveScheduleFirstPaymentReached', 'ActiveScheduleFirstPaymentReached_Cleaned']].tail())\n"
   ]
  },
  {
   "cell_type": "code",
   "execution_count": 5,
   "id": "2b0006e2-194b-488b-b5f2-108e7db3b155",
   "metadata": {},
   "outputs": [
    {
     "name": "stdout",
     "output_type": "stream",
     "text": [
      "[ True False]\n",
      "        ActiveScheduleFirstPaymentReached  \\\n",
      "134524                               True   \n",
      "134525                               True   \n",
      "134526                               True   \n",
      "134527                               True   \n",
      "134528                               True   \n",
      "\n",
      "        ActiveScheduleFirstPaymentReached_Cleaned  \n",
      "134524                                       True  \n",
      "134525                                       True  \n",
      "134526                                       True  \n",
      "134527                                       True  \n",
      "134528                                       True  \n"
     ]
    }
   ],
   "source": [
    "# Display unique values in the cleaned column\n",
    "print(df['ActiveScheduleFirstPaymentReached_Cleaned'].unique())\n",
    "\n",
    "# Check the last few rows to ensure the cleaning process worked\n",
    "print(df[['ActiveScheduleFirstPaymentReached', 'ActiveScheduleFirstPaymentReached_Cleaned']].tail())\n"
   ]
  },
  {
   "cell_type": "code",
   "execution_count": 6,
   "id": "82ad7c38-35cc-45f6-8bce-b17f8176b6fd",
   "metadata": {},
   "outputs": [
    {
     "name": "stdout",
     "output_type": "stream",
     "text": [
      "Number of NaN values in the cleaned column: 0\n"
     ]
    }
   ],
   "source": [
    "# Check if there are any NaN values after cleaning\n",
    "nan_values = df['ActiveScheduleFirstPaymentReached_Cleaned'].isna().sum()\n",
    "print(f\"Number of NaN values in the cleaned column: {nan_values}\")\n"
   ]
  },
  {
   "cell_type": "markdown",
   "id": "31ab0bbe-07e7-4352-aec9-b66f847e79a7",
   "metadata": {},
   "source": [
    "# Age "
   ]
  },
  {
   "cell_type": "code",
   "execution_count": 7,
   "id": "3e806be0-61f2-43bd-9ceb-0c4666799303",
   "metadata": {},
   "outputs": [
    {
     "name": "stdout",
     "output_type": "stream",
     "text": [
      "count    134529.000000\n",
      "mean         40.819295\n",
      "std          12.348693\n",
      "min           0.000000\n",
      "25%          31.000000\n",
      "50%          40.000000\n",
      "75%          50.000000\n",
      "max          77.000000\n",
      "Name: Age, dtype: float64\n",
      "[61 48 58 23 25 22 47 38 54 35 31 20 30 57 32 42 27 51 33 34 40 24 26 49\n",
      " 29 21 43 39 19 55 18 37 46 41 28 50 36 45 76 75 59 44 62 52 63 53 60 68\n",
      " 66 56 65 67 69 64  0 77 70  1  2 71 72 74]\n"
     ]
    }
   ],
   "source": [
    "# Check for minimum, maximum, and unique values\n",
    "print(df['Age'].describe())\n",
    "print(df['Age'].unique())\n"
   ]
  },
  {
   "cell_type": "code",
   "execution_count": 8,
   "id": "d1f8dd1f-e775-4d6a-a7f4-8465348a6869",
   "metadata": {},
   "outputs": [],
   "source": [
    "#Drop rows with missing age values\n",
    "df.dropna(subset=['Age'], inplace=True)"
   ]
  },
  {
   "cell_type": "code",
   "execution_count": 9,
   "id": "d517e9a0-2148-4bbc-8001-c4ce9e1aed4e",
   "metadata": {},
   "outputs": [],
   "source": [
    "# Remove unrealistic ages\n",
    "df = df[(df['Age'] >= 18) & (df['Age'] <= 100)]\n"
   ]
  },
  {
   "cell_type": "code",
   "execution_count": 10,
   "id": "98039cc8-8ad1-42f4-b7cc-1a3b2d42e728",
   "metadata": {},
   "outputs": [
    {
     "name": "stdout",
     "output_type": "stream",
     "text": [
      "count    134476.000000\n",
      "mean         40.835324\n",
      "std          12.324696\n",
      "min          18.000000\n",
      "25%          31.000000\n",
      "50%          40.000000\n",
      "75%          50.000000\n",
      "max          77.000000\n",
      "Name: Age, dtype: float64\n"
     ]
    }
   ],
   "source": [
    "# Final check for any remaining anomalies\n",
    "print(df['Age'].describe())\n"
   ]
  },
  {
   "cell_type": "code",
   "execution_count": 11,
   "id": "c44bf3f7-0897-4e05-b507-db849e7ddc5b",
   "metadata": {},
   "outputs": [],
   "source": [
    "# Convert Age to numeric format, if necessary\n",
    "df['Age'] = pd.to_numeric(df['Age'], errors='coerce')\n"
   ]
  },
  {
   "cell_type": "code",
   "execution_count": 12,
   "id": "e1b878d5-30f2-4661-84a6-387322b49339",
   "metadata": {},
   "outputs": [
    {
     "name": "stdout",
     "output_type": "stream",
     "text": [
      "count    134476.000000\n",
      "mean         40.835324\n",
      "std          12.324696\n",
      "min          18.000000\n",
      "25%          31.000000\n",
      "50%          40.000000\n",
      "75%          50.000000\n",
      "max          77.000000\n",
      "Name: Age, dtype: float64\n"
     ]
    }
   ],
   "source": [
    "print(df['Age'].describe())\n"
   ]
  },
  {
   "cell_type": "markdown",
   "id": "3400eb15-7092-4718-8f35-409b41e70cd1",
   "metadata": {},
   "source": [
    "#  Amount"
   ]
  },
  {
   "cell_type": "code",
   "execution_count": 13,
   "id": "ca84dbdd-333e-40e2-b7a5-26a31c01b668",
   "metadata": {},
   "outputs": [
    {
     "name": "stdout",
     "output_type": "stream",
     "text": [
      "Missing Amount values: 0\n",
      "count    134476.000000\n",
      "mean       2543.940669\n",
      "std        2169.830350\n",
      "min           6.390000\n",
      "25%         744.000000\n",
      "50%        2125.000000\n",
      "75%        3600.000000\n",
      "max       10632.000000\n",
      "Name: Amount, dtype: float64\n",
      "[ 115.0408  140.6057  319.5409 ... 6345.     4520.     7730.    ]\n",
      "count    134476.000000\n",
      "mean       2543.940669\n",
      "std        2169.830350\n",
      "min           6.390000\n",
      "25%         744.000000\n",
      "50%        2125.000000\n",
      "75%        3600.000000\n",
      "max       10632.000000\n",
      "Name: Amount, dtype: float64\n"
     ]
    }
   ],
   "source": [
    "# Check for missing values\n",
    "missing_amounts = df['Amount'].isnull().sum()\n",
    "print(f\"Missing Amount values: {missing_amounts}\")\n",
    "\n",
    "# Check for minimum, maximum, and unique values\n",
    "print(df['Amount'].describe())\n",
    "print(df['Amount'].unique())\n",
    "df.dropna(subset=['Amount'], inplace=True)\n",
    "# Convert Amount to numeric format\n",
    "df['Amount'] = pd.to_numeric(df['Amount'], errors='coerce')\n",
    "print(df['Amount'].describe())\n",
    "\n"
   ]
  },
  {
   "cell_type": "markdown",
   "id": "cbf908cf-bd1c-493b-8d59-2a7f02435fd6",
   "metadata": {},
   "source": [
    "# AmountOfPreviousLoansBeforeLoan"
   ]
  },
  {
   "cell_type": "code",
   "execution_count": 14,
   "id": "d190182c-c217-48f0-9725-a6d1149f290a",
   "metadata": {},
   "outputs": [
    {
     "name": "stdout",
     "output_type": "stream",
     "text": [
      "Missing values in AmountOfPreviousLoansBeforeLoan: 0\n",
      "count    134476.000000\n",
      "mean       2869.336090\n",
      "std        4507.672311\n",
      "min           0.000000\n",
      "25%           0.000000\n",
      "50%         396.303250\n",
      "75%        4250.000000\n",
      "max       53762.000000\n",
      "Name: AmountOfPreviousLoansBeforeLoan, dtype: float64\n",
      "[  83.0852  255.6467    0.     ... 4435.8513  990.     1266.94  ]\n",
      "count    134476.000000\n",
      "mean       2869.336090\n",
      "std        4507.672311\n",
      "min           0.000000\n",
      "25%           0.000000\n",
      "50%         396.303250\n",
      "75%        4250.000000\n",
      "max       53762.000000\n",
      "Name: AmountOfPreviousLoansBeforeLoan, dtype: float64\n"
     ]
    }
   ],
   "source": [
    "# Check for missing values\n",
    "missing_previous_loans = df['AmountOfPreviousLoansBeforeLoan'].isnull().sum()\n",
    "print(f\"Missing values in AmountOfPreviousLoansBeforeLoan: {missing_previous_loans}\")\n",
    "\n",
    "# Check for minimum, maximum, and unique values\n",
    "print(df['AmountOfPreviousLoansBeforeLoan'].describe())\n",
    "print(df['AmountOfPreviousLoansBeforeLoan'].unique())\n",
    "df.dropna(subset=['AmountOfPreviousLoansBeforeLoan'], inplace=True)\n",
    "# Convert the column to numeric format\n",
    "df['AmountOfPreviousLoansBeforeLoan'] = pd.to_numeric(df['AmountOfPreviousLoansBeforeLoan'], errors='coerce')\n",
    "print(df['AmountOfPreviousLoansBeforeLoan'].describe())\n"
   ]
  },
  {
   "cell_type": "markdown",
   "id": "ef310149-3bb8-4875-a580-f15b625c366b",
   "metadata": {},
   "source": [
    "# AppliedAmount"
   ]
  },
  {
   "cell_type": "code",
   "execution_count": 15,
   "id": "bef88601-a2e3-441f-9939-c75a7fd358ef",
   "metadata": {},
   "outputs": [
    {
     "name": "stdout",
     "output_type": "stream",
     "text": [
      "Missing values in AppliedAmount: 0\n"
     ]
    }
   ],
   "source": [
    "missing_applied_amount = df['AppliedAmount'].isnull().sum()\n",
    "print(f\"Missing values in AppliedAmount: {missing_applied_amount}\")\n",
    "df.dropna(subset=['AppliedAmount'], inplace=True)\n",
    "df['AppliedAmount'] = pd.to_numeric(df['AppliedAmount'], errors='coerce')\n"
   ]
  },
  {
   "cell_type": "markdown",
   "id": "359ec323-0d4c-4434-a937-64454c14f56c",
   "metadata": {},
   "source": [
    "# BidPrincipal"
   ]
  },
  {
   "cell_type": "code",
   "execution_count": 16,
   "id": "7a0dfc77-9b3e-4b73-b42e-6e308eae3192",
   "metadata": {},
   "outputs": [],
   "source": [
    "if 'BidPrincipal' in df.columns:\n",
    "    df['BidPrincipal'] = df['BidPrincipal'].apply(lambda x: x if x >= 0 else None)"
   ]
  },
  {
   "cell_type": "markdown",
   "id": "9e443e5f-9724-4963-9d6c-c5ef74d419dd",
   "metadata": {},
   "source": [
    "# AuctionBidNumber, AuctionId, AuctionName, AuctionNumber"
   ]
  },
  {
   "cell_type": "code",
   "execution_count": 17,
   "id": "dc41f1c2-08de-4daa-ad28-765a1124e51d",
   "metadata": {},
   "outputs": [],
   "source": [
    "identifier_columns = ['AuctionBidNumber', 'AuctionId', 'AuctionName', 'AuctionNumber']\n",
    "for col in identifier_columns:\n",
    "    if col in df.columns:\n",
    "        df[col] = df[col].astype(str).str.strip()\n",
    "        df[col] = df[col].apply(lambda x: x if len(x) > 0 else 'Unknown')\n",
    "        if df[col].duplicated().any():\n",
    "            print(f\"Duplicates found in {col}\")"
   ]
  },
  {
   "cell_type": "markdown",
   "id": "1f759d2c-63c8-4137-a83b-35c8affc7e89",
   "metadata": {},
   "source": [
    "# BidsApi, BidsManual, BidsPortfolioManager"
   ]
  },
  {
   "cell_type": "code",
   "execution_count": 18,
   "id": "f1a87199-ccf3-4af3-9bee-646d116a4096",
   "metadata": {},
   "outputs": [
    {
     "name": "stdout",
     "output_type": "stream",
     "text": [
      "Missing values in the bid columns:\n",
      "BidsApi                 0\n",
      "BidsManual              0\n",
      "BidsPortfolioManager    0\n",
      "dtype: int64\n",
      "\n",
      "Entries with negative or zero bid values:\n",
      "       ReportAsOfEOD                                LoanId  LoanNumber  \\\n",
      "0         2020-01-27  F0660C80-83F3-4A97-8DA0-9C250112D6EC         659   \n",
      "1         2020-01-27  978BB85B-1C69-4D51-8447-9C240104A3A2         654   \n",
      "2         2020-01-27  EA44027E-7FA7-4BB2-846D-9C1F013C8A22         641   \n",
      "3         2020-01-27  CE67AD25-2951-4BEE-96BD-9C2700C61EF4         668   \n",
      "4         2020-01-27  9408BF8C-B159-4D6A-9D61-9C2400A986E3         652   \n",
      "...              ...                                   ...         ...   \n",
      "134524    2020-01-27  A9C9EF0F-4E79-4930-BA8A-A4130077FCC2      283484   \n",
      "134525    2020-01-27  787345C2-7606-4F72-8FE2-A4170082D77C      285168   \n",
      "134526    2020-01-27  E2D3384D-289A-4B4D-A2DA-A40F00F7C755      281602   \n",
      "134527    2020-01-27  7CC7AB74-995B-4467-958A-A41700F78D59      285431   \n",
      "134528    2020-01-27  3A0DEBF3-292C-4EB4-B71A-A4170157749D      285630   \n",
      "\n",
      "                ListedOnUTC     BiddingStartedOn  BidsPortfolioManager  \\\n",
      "0       2009-06-11 16:40:39  2009-06-11 16:40:39                     0   \n",
      "1       2009-06-10 15:48:57  2009-06-10 15:48:57                     0   \n",
      "2       2009-06-05 19:12:29  2009-06-05 19:12:29                     0   \n",
      "3       2009-06-13 12:01:20  2009-06-13 12:01:20                     0   \n",
      "4       2009-06-10 10:17:13  2009-06-10 10:17:13                     0   \n",
      "...                     ...                  ...                   ...   \n",
      "134524  2015-01-02 16:31:36  2015-01-02 16:31:36                  2515   \n",
      "134525  2015-01-05 16:14:26  2015-01-05 16:14:26                  1880   \n",
      "134526  2015-01-02 14:04:27  2015-01-02 14:04:27                  1975   \n",
      "134527  2015-01-05 16:56:12  2015-01-05 16:56:12                  1840   \n",
      "134528  2015-01-06 11:07:06  2015-01-06 11:07:06                  2990   \n",
      "\n",
      "        BidsApi  BidsManual   UserName  NewCreditCustomer  ...  \\\n",
      "0             0    115.0410       KARU               True  ...   \n",
      "1             0    140.6057   koort681              False  ...   \n",
      "2             0    319.5580        0ie               True  ...   \n",
      "3             0     57.5205     Alyona               True  ...   \n",
      "4             0    319.5582        Kai               True  ...   \n",
      "...         ...         ...        ...                ...  ...   \n",
      "134524        0    485.0000  BO73K5A6A               True  ...   \n",
      "134525        0   1120.0000   BO311A49              False  ...   \n",
      "134526        0    525.0000  BO41K639A               True  ...   \n",
      "134527        0   1160.0000   BO45A925              False  ...   \n",
      "134528        0     10.0000  BO152923A              False  ...   \n",
      "\n",
      "       GracePeriodStart GracePeriodEnd NextPaymentDate NextPaymentNr  \\\n",
      "0                   NaN            NaN             NaN           NaN   \n",
      "1                   NaN            NaN             NaN           NaN   \n",
      "2                   NaN            NaN             NaN           NaN   \n",
      "3                   NaN            NaN             NaN           NaN   \n",
      "4                   NaN            NaN             NaN           NaN   \n",
      "...                 ...            ...             ...           ...   \n",
      "134524              NaN            NaN             NaN           NaN   \n",
      "134525       2017-06-27     2018-06-20             NaN           NaN   \n",
      "134526              NaN            NaN             NaN           0.0   \n",
      "134527       2016-04-01     2016-10-03             NaN           NaN   \n",
      "134528       2015-09-14     2016-03-14             NaN           0.0   \n",
      "\n",
      "       NrOfScheduledPayments ReScheduledOn  PrincipalDebtServicingCost  \\\n",
      "0                        NaN           NaN                         0.0   \n",
      "1                        NaN           NaN                         0.0   \n",
      "2                        NaN           NaN                         0.0   \n",
      "3                        NaN           NaN                         0.0   \n",
      "4                        NaN           NaN                         0.0   \n",
      "...                      ...           ...                         ...   \n",
      "134524                   NaN           NaN                         0.0   \n",
      "134525                   NaN           NaN                         0.0   \n",
      "134526                  60.0           NaN                         0.0   \n",
      "134527                   NaN           NaN                         0.0   \n",
      "134528                  60.0    2015-09-09                         0.0   \n",
      "\n",
      "        InterestAndPenaltyDebtServicingCost  ActiveLateLastPaymentCategory  \\\n",
      "0                                      0.00                            NaN   \n",
      "1                                      0.00                            NaN   \n",
      "2                                      0.00                           180+   \n",
      "3                                      0.00                            NaN   \n",
      "4                                      0.00                           180+   \n",
      "...                                     ...                            ...   \n",
      "134524                              1040.06                           180+   \n",
      "134525                                 0.00                            NaN   \n",
      "134526                              1051.85                           8-15   \n",
      "134527                               889.50                          31-60   \n",
      "134528                               604.80                         91-120   \n",
      "\n",
      "        ActiveScheduleFirstPaymentReached_Cleaned  \n",
      "0                                            True  \n",
      "1                                            True  \n",
      "2                                            True  \n",
      "3                                            True  \n",
      "4                                            True  \n",
      "...                                           ...  \n",
      "134524                                       True  \n",
      "134525                                       True  \n",
      "134526                                       True  \n",
      "134527                                       True  \n",
      "134528                                       True  \n",
      "\n",
      "[86235 rows x 113 columns]\n"
     ]
    }
   ],
   "source": [
    "# Define the columns to check\n",
    "bid_columns = ['BidsApi', 'BidsManual', 'BidsPortfolioManager']\n",
    "\n",
    "# Convert columns to numeric (if not already), coercing errors to NaN\n",
    "df[bid_columns] = df[bid_columns].apply(pd.to_numeric, errors='coerce')\n",
    "\n",
    "# Check for any missing values\n",
    "missing_values = df[bid_columns].isnull().sum()\n",
    "\n",
    "# Check for negative or zero values\n",
    "negative_or_zero_values = df[(df[bid_columns] <= 0).any(axis=1)]\n",
    "\n",
    "# Output the results\n",
    "print(\"Missing values in the bid columns:\")\n",
    "print(missing_values)\n",
    "\n",
    "print(\"\\nEntries with negative or zero bid values:\")\n",
    "print(negative_or_zero_values)\n"
   ]
  },
  {
   "cell_type": "markdown",
   "id": "630be4c3-103a-4187-8a21-d1a495b7f9ec",
   "metadata": {},
   "source": [
    "# Data Labeling "
   ]
  },
  {
   "cell_type": "code",
   "execution_count": 19,
   "id": "ccfbb762-e37b-4a1f-a738-52a9a5491dcc",
   "metadata": {},
   "outputs": [
    {
     "name": "stdout",
     "output_type": "stream",
     "text": [
      "Target\n",
      "Not Default    91588\n",
      "Default        42888\n",
      "Name: count, dtype: int64\n"
     ]
    }
   ],
   "source": [
    "# Perform data labeling to classify the target variable as 'Default' or 'Not Default'\n",
    "\n",
    "# Create or update the 'Target' column based on the 'DefaultDate' column\n",
    "df['Target'] = df['DefaultDate'].apply(lambda x: 'Default' if pd.notna(x) else 'Not Default')\n",
    "\n",
    "# Verify the data labeling by displaying the counts of each category\n",
    "target_counts = df['Target'].value_counts()\n",
    "\n",
    "# Output the counts for each category\n",
    "print(target_counts)"
   ]
  },
  {
   "cell_type": "markdown",
   "id": "7fd4ffb3-0f3d-4514-8eea-5865278f7da1",
   "metadata": {},
   "source": [
    "#  City, Country, County: Standardize Location Data"
   ]
  },
  {
   "cell_type": "code",
   "execution_count": 20,
   "id": "f50ddf95-dac2-4f13-8bc6-aa436d0e6622",
   "metadata": {},
   "outputs": [],
   "source": [
    "def standardize_location(value):\n",
    "    if isinstance(value, str):\n",
    "        return value.strip().title()  # Remove leading/trailing spaces and capitalize each word\n",
    "    return value\n",
    "\n",
    "df['City'] = df['City'].apply(standardize_location)\n",
    "df['Country'] = df['Country'].apply(standardize_location)\n",
    "df['County'] = df['County'].apply(standardize_location)\n"
   ]
  },
  {
   "cell_type": "markdown",
   "id": "980991e9-00c2-413a-9cb3-fac038544e05",
   "metadata": {},
   "source": [
    "# Credit Scores: Clean and Categorize"
   ]
  },
  {
   "cell_type": "code",
   "execution_count": 21,
   "id": "b8a6ebf0-f141-492d-8859-bfa044118c5e",
   "metadata": {},
   "outputs": [
    {
     "name": "stdout",
     "output_type": "stream",
     "text": [
      "[nan 'No previous payments problems'\n",
      " 'Payments problems finished 6-12 months ago'\n",
      " 'Payments problems finished 12-24 months ago'\n",
      " 'Payment problems finished < 6 months ago'\n",
      " 'Payments problems finished 24-36 months ago' 'Active payment problems'\n",
      " 'Unknown']\n",
      "[nan 'Average risk' 'Low risk' 'Average High risk' 'High risk'\n",
      " 'Very low risk' 'Very High risk']\n",
      "[nan 'M3' 'M5' 'Best score' 'M9' 'M2' 'M6' 'M4' 'M8' 'M7' 'Worst score']\n",
      "[nan 'Low risk' 'Very low risk' 'Big risk' 'Average risk' 'Huge risk'\n",
      " 'Very high risk']\n"
     ]
    }
   ],
   "source": [
    "# Mapping for CreditScoreEeMini\n",
    "ee_mini_mapping = {\n",
    "    1000: 'No previous payments problems',\n",
    "    900: 'Payments problems finished 24-36 months ago',\n",
    "    800: 'Payments problems finished 12-24 months ago',\n",
    "    700: 'Payments problems finished 6-12 months ago',\n",
    "    600: 'Payment problems finished < 6 months ago',\n",
    "    500: 'Active payment problems',\n",
    "    0: 'Unknown'  # Assuming '0' as unknown or unassigned\n",
    "}\n",
    "\n",
    "# Mapping for CreditScoreEsEquifaxRisk\n",
    "equifax_risk_mapping = {\n",
    "    'AAA': 'Very low risk',\n",
    "    'AA': 'Low risk',\n",
    "    'A': 'Average risk',\n",
    "    'B': 'Average High risk',\n",
    "    'C': 'High risk',\n",
    "    'D': 'Very High risk'\n",
    "}\n",
    "\n",
    "# Mapping for CreditScoreEsMicroL\n",
    "micro_l_mapping = {\n",
    "    'M1': 'Best score',\n",
    "    'M2': 'M2',\n",
    "    'M3': 'M3',\n",
    "    'M4': 'M4',\n",
    "    'M5': 'M5',\n",
    "    'M6': 'M6',\n",
    "    'M7': 'M7',\n",
    "    'M8': 'M8',\n",
    "    'M9': 'M9',\n",
    "    'M10': 'Worst score'\n",
    "}\n",
    "\n",
    "# Mapping for CreditScoreFiAsiakasTietoRiskGrade\n",
    "fi_as_mapping = {\n",
    "    'RL1': 'Very low risk',\n",
    "    'RL2': 'Low risk',\n",
    "    'RL3': 'Average risk',\n",
    "    'RL4': 'Big risk',\n",
    "    'RL5': 'Huge risk',\n",
    "    '1': 'Very low risk',\n",
    "    '2': 'Low risk',\n",
    "    '3': 'Average risk',\n",
    "    '4': 'Big risk',\n",
    "    '5': 'Huge risk',\n",
    "    '6': 'Very high risk',  # Assuming '6' as Very High risk (Not provided)\n",
    "    '7': 'Very high risk',  # Assuming '7' as Very High risk (Not provided)\n",
    "    '8': 'Very high risk',  # Assuming '8' as Very High risk (Not provided)\n",
    "    1.0: 'Very low risk',\n",
    "    2.0: 'Low risk',\n",
    "    3.0: 'Average risk',\n",
    "    4.0: 'Big risk',\n",
    "    5.0: 'Huge risk',\n",
    "    6.0: 'Very high risk',\n",
    "    7.0: 'Very high risk'\n",
    "}\n",
    "\n",
    "# Apply mappings\n",
    "df['CreditScoreEeMini_Cleaned'] = df['CreditScoreEeMini'].map(ee_mini_mapping)\n",
    "df['CreditScoreEsEquifaxRisk_Cleaned'] = df['CreditScoreEsEquifaxRisk'].map(equifax_risk_mapping)\n",
    "df['CreditScoreEsMicroL_Cleaned'] = df['CreditScoreEsMicroL'].map(micro_l_mapping)\n",
    "df['CreditScoreFiAsiakasTietoRiskGrade_Cleaned'] = df['CreditScoreFiAsiakasTietoRiskGrade'].map(fi_as_mapping)\n",
    "\n",
    "# Handle NaN values - you can adjust the replacement values as needed\n",
    "df['CreditScoreEeMini_Cleaned'].fillna('Unknown')\n",
    "df['CreditScoreEsEquifaxRisk_Cleaned'].fillna('Unknown')\n",
    "df['CreditScoreEsMicroL_Cleaned'].fillna('Unknown')\n",
    "df['CreditScoreFiAsiakasTietoRiskGrade_Cleaned'].fillna('Unknown')\n",
    "\n",
    "# Verify the cleaning process by checking the unique values after the transformation\n",
    "print(df['CreditScoreEeMini_Cleaned'].unique())\n",
    "print(df['CreditScoreEsEquifaxRisk_Cleaned'].unique())\n",
    "print(df['CreditScoreEsMicroL_Cleaned'].unique())\n",
    "print(df['CreditScoreFiAsiakasTietoRiskGrade_Cleaned'].unique())\n"
   ]
  },
  {
   "cell_type": "markdown",
   "id": "ae011b54-971e-4a63-a5ec-79eccdc18f81",
   "metadata": {},
   "source": [
    "#  Date Fields: Validate and Ensure Consistency\n"
   ]
  },
  {
   "cell_type": "code",
   "execution_count": 22,
   "id": "7b36fcb1-bb02-450a-89e2-03a53db81b97",
   "metadata": {},
   "outputs": [],
   "source": [
    "def validate_date(date_value):\n",
    "    try:\n",
    "        return pd.to_datetime(date_value, format='%Y-%m-%d')\n",
    "    except (ValueError, TypeError):\n",
    "        return np.nan  # Handle invalid dates by setting them to NaN\n",
    "\n",
    "date_columns = ['ContractEndDate', 'DebtOccuredOn', 'DebtOccuredOnForSecondary', 'DefaultDate']\n",
    "for col in date_columns:\n",
    "    df[col] = df[col].apply(validate_date)\n"
   ]
  },
  {
   "cell_type": "code",
   "execution_count": 31,
   "id": "875a3b62-b96f-429d-8b84-b9526a391856",
   "metadata": {},
   "outputs": [
    {
     "name": "stdout",
     "output_type": "stream",
     "text": [
      "['UpTo3Years' 'MoreThan5Years' 'UpTo4Years' 'UpTo2Years' 'UpTo1Year'\n",
      " 'Unknown' 'UpTo5Years' 'TrialPeriod' 'Other' 'Retiree']\n"
     ]
    }
   ],
   "source": [
    "file_path = './Bondora_raw.csv'\n",
    "df = pd.read_csv(file_path, low_memory=False)\n",
    "print(df['EmploymentDurationCurrentEmployer'].unique())\n"
   ]
  },
  {
   "cell_type": "markdown",
   "id": "82613e91-abbc-4292-b5ab-fd032d2a5dd5",
   "metadata": {},
   "source": [
    "#  Financial and Employment Data: Ensure Accuracy\n"
   ]
  },
  {
   "cell_type": "code",
   "execution_count": 23,
   "id": "9c8c1c6a-3fff-4fcd-bda0-db5a2c02485d",
   "metadata": {},
   "outputs": [
    {
     "name": "stdout",
     "output_type": "stream",
     "text": [
      "Unique values in column 'DebtToIncome':\n",
      "[ 0.   52.06 24.7  ... 42.42  1.77 56.96]\n",
      "--------------------------------------------------\n",
      "Unique values in column 'EmploymentDurationCurrentEmployer':\n",
      "['UpTo3Years' 'MoreThan5Years' 'UpTo4Years' 'UpTo2Years' 'UpTo1Year'\n",
      " 'Unknown' 'UpTo5Years' 'TrialPeriod' 'Other' 'Retiree']\n",
      "--------------------------------------------------\n",
      "Unique values in column 'EmploymentPosition':\n",
      "['klienditeenindaja' 'õppealajuhataja lasteaias' 'teenindaja' ...\n",
      " 'elektromonter' 'finančný referent' 'guardia vigilante']\n",
      "--------------------------------------------------\n",
      "Unique values in column 'EmploymentStatus':\n",
      "[ 3. nan  2.  4.  5.  6. -1.  0.]\n",
      "--------------------------------------------------\n",
      "Unique values in column 'ExistingLiabilities':\n",
      "[ 0  6  4  1  8  3  2  5  7  9 10 12 11 15 14 17 13 16 18 24 19 26 23 20\n",
      " 21 22 25 27 36 30 28 35 29 31 32 33 34 39 40]\n"
     ]
    }
   ],
   "source": [
    "# 1. Clean 'DebtToIncome'\n",
    "# Convert 'DebtToIncome' to numeric, coercing errors to NaN, and fill missing values with zero\n",
    "df['DebtToIncome'] = pd.to_numeric(df['DebtToIncome'], errors='coerce').fillna(0)\n",
    "\n",
    "# 2. Preserve 'EmploymentDurationCurrentEmployer' as is\n",
    "# Fill NaN values with 'Unknown'\n",
    "df['EmploymentDurationCurrentEmployer'] = df['EmploymentDurationCurrentEmployer'].fillna('Unknown')\n",
    "\n",
    "# 3. Clean 'EmploymentPosition'\n",
    "# Remove any leading/trailing whitespace and standardize case\n",
    "df['EmploymentPosition'] = df['EmploymentPosition'].str.strip().str.lower()\n",
    "\n",
    "# Handle NaN values by replacing them with 'unknown'\n",
    "df['EmploymentPosition'] = df['EmploymentPosition'].fillna('unknown')\n",
    "\n",
    "# 4. Preserve 'EmploymentStatus' as is\n",
    "# Ensure numeric consistency, treat as numeric if necessary\n",
    "df['EmploymentStatus'] = pd.to_numeric(df['EmploymentStatus'], errors='coerce')\n",
    "\n",
    "# 5. Clean 'ExistingLiabilities'\n",
    "# Convert 'ExistingLiabilities' to integer and fill NaN with 0 (assuming no liabilities)\n",
    "df['ExistingLiabilities'] = pd.to_numeric(df['ExistingLiabilities'], errors='coerce').fillna(0).astype(int)\n",
    "\n",
    "# Display the unique values after cleaning to verify changes\n",
    "print(\"Unique values in column 'DebtToIncome':\")\n",
    "print(df['DebtToIncome'].unique())\n",
    "print(\"--------------------------------------------------\")\n",
    "\n",
    "print(\"Unique values in column 'EmploymentDurationCurrentEmployer':\")\n",
    "print(df['EmploymentDurationCurrentEmployer'].unique())\n",
    "print(\"--------------------------------------------------\")\n",
    "\n",
    "print(\"Unique values in column 'EmploymentPosition':\")\n",
    "print(df['EmploymentPosition'].unique())\n",
    "print(\"--------------------------------------------------\")\n",
    "\n",
    "print(\"Unique values in column 'EmploymentStatus':\")\n",
    "print(df['EmploymentStatus'].unique())\n",
    "print(\"--------------------------------------------------\")\n",
    "\n",
    "print(\"Unique values in column 'ExistingLiabilities':\")\n",
    "print(df['ExistingLiabilities'].unique())\n",
    "\n"
   ]
  },
  {
   "cell_type": "markdown",
   "id": "9b3d7d29-b71a-4f0e-aaf8-af36ed0b0191",
   "metadata": {},
   "source": [
    "# Save the prepocessed data "
   ]
  },
  {
   "cell_type": "code",
   "execution_count": 24,
   "id": "c23a4dfb-1907-4e23-9dd7-742cc5d8e4fa",
   "metadata": {},
   "outputs": [
    {
     "name": "stdout",
     "output_type": "stream",
     "text": [
      "saved {clean_data}\n"
     ]
    }
   ],
   "source": [
    "# Save the preprocessed data to a CSV file\n",
    "\n",
    "clean_data =df.to_csv('./Bondora_clean.csv', index=False)\n",
    "print(\"saved {clean_data}\")\n",
    "\n"
   ]
  },
  {
   "cell_type": "code",
   "execution_count": 25,
   "id": "53ca2795-becd-4e1b-ad08-459fa5009206",
   "metadata": {},
   "outputs": [
    {
     "data": {
      "text/plain": [
       "'C:\\\\Users\\\\Lenovo\\\\Bondora_data preprocessing'"
      ]
     },
     "execution_count": 25,
     "metadata": {},
     "output_type": "execute_result"
    }
   ],
   "source": [
    "import os\n",
    "os.getcwd()"
   ]
  },
  {
   "cell_type": "code",
   "execution_count": 26,
   "id": "94579934-a568-48a1-a442-6257189ed95d",
   "metadata": {},
   "outputs": [],
   "source": [
    "# Load the dataset\n",
    "data = pd.read_csv('Bondora_clean.csv', low_memory=False)"
   ]
  },
  {
   "cell_type": "code",
   "execution_count": 27,
   "id": "b9bcf157-6be4-4a22-82bf-fc5c60c33637",
   "metadata": {},
   "outputs": [
    {
     "data": {
      "text/html": [
       "<div>\n",
       "<style scoped>\n",
       "    .dataframe tbody tr th:only-of-type {\n",
       "        vertical-align: middle;\n",
       "    }\n",
       "\n",
       "    .dataframe tbody tr th {\n",
       "        vertical-align: top;\n",
       "    }\n",
       "\n",
       "    .dataframe thead th {\n",
       "        text-align: right;\n",
       "    }\n",
       "</style>\n",
       "<table border=\"1\" class=\"dataframe\">\n",
       "  <thead>\n",
       "    <tr style=\"text-align: right;\">\n",
       "      <th></th>\n",
       "      <th>ReportAsOfEOD</th>\n",
       "      <th>LoanId</th>\n",
       "      <th>LoanNumber</th>\n",
       "      <th>ListedOnUTC</th>\n",
       "      <th>BiddingStartedOn</th>\n",
       "      <th>BidsPortfolioManager</th>\n",
       "      <th>BidsApi</th>\n",
       "      <th>BidsManual</th>\n",
       "      <th>UserName</th>\n",
       "      <th>NewCreditCustomer</th>\n",
       "      <th>...</th>\n",
       "      <th>ReScheduledOn</th>\n",
       "      <th>PrincipalDebtServicingCost</th>\n",
       "      <th>InterestAndPenaltyDebtServicingCost</th>\n",
       "      <th>ActiveLateLastPaymentCategory</th>\n",
       "      <th>ActiveScheduleFirstPaymentReached_Cleaned</th>\n",
       "      <th>Target</th>\n",
       "      <th>CreditScoreEeMini_Cleaned</th>\n",
       "      <th>CreditScoreEsEquifaxRisk_Cleaned</th>\n",
       "      <th>CreditScoreEsMicroL_Cleaned</th>\n",
       "      <th>CreditScoreFiAsiakasTietoRiskGrade_Cleaned</th>\n",
       "    </tr>\n",
       "  </thead>\n",
       "  <tbody>\n",
       "    <tr>\n",
       "      <th>0</th>\n",
       "      <td>2020-01-27</td>\n",
       "      <td>F0660C80-83F3-4A97-8DA0-9C250112D6EC</td>\n",
       "      <td>659</td>\n",
       "      <td>2009-06-11 16:40:39</td>\n",
       "      <td>2009-06-11 16:40:39</td>\n",
       "      <td>0</td>\n",
       "      <td>0</td>\n",
       "      <td>115.0410</td>\n",
       "      <td>KARU</td>\n",
       "      <td>True</td>\n",
       "      <td>...</td>\n",
       "      <td>NaN</td>\n",
       "      <td>0.0</td>\n",
       "      <td>0.0</td>\n",
       "      <td>NaN</td>\n",
       "      <td>True</td>\n",
       "      <td>Not Default</td>\n",
       "      <td>NaN</td>\n",
       "      <td>NaN</td>\n",
       "      <td>NaN</td>\n",
       "      <td>NaN</td>\n",
       "    </tr>\n",
       "    <tr>\n",
       "      <th>1</th>\n",
       "      <td>2020-01-27</td>\n",
       "      <td>978BB85B-1C69-4D51-8447-9C240104A3A2</td>\n",
       "      <td>654</td>\n",
       "      <td>2009-06-10 15:48:57</td>\n",
       "      <td>2009-06-10 15:48:57</td>\n",
       "      <td>0</td>\n",
       "      <td>0</td>\n",
       "      <td>140.6057</td>\n",
       "      <td>koort681</td>\n",
       "      <td>False</td>\n",
       "      <td>...</td>\n",
       "      <td>NaN</td>\n",
       "      <td>0.0</td>\n",
       "      <td>0.0</td>\n",
       "      <td>NaN</td>\n",
       "      <td>True</td>\n",
       "      <td>Not Default</td>\n",
       "      <td>NaN</td>\n",
       "      <td>NaN</td>\n",
       "      <td>NaN</td>\n",
       "      <td>NaN</td>\n",
       "    </tr>\n",
       "    <tr>\n",
       "      <th>2</th>\n",
       "      <td>2020-01-27</td>\n",
       "      <td>EA44027E-7FA7-4BB2-846D-9C1F013C8A22</td>\n",
       "      <td>641</td>\n",
       "      <td>2009-06-05 19:12:29</td>\n",
       "      <td>2009-06-05 19:12:29</td>\n",
       "      <td>0</td>\n",
       "      <td>0</td>\n",
       "      <td>319.5580</td>\n",
       "      <td>0ie</td>\n",
       "      <td>True</td>\n",
       "      <td>...</td>\n",
       "      <td>NaN</td>\n",
       "      <td>0.0</td>\n",
       "      <td>0.0</td>\n",
       "      <td>180+</td>\n",
       "      <td>True</td>\n",
       "      <td>Default</td>\n",
       "      <td>NaN</td>\n",
       "      <td>NaN</td>\n",
       "      <td>NaN</td>\n",
       "      <td>NaN</td>\n",
       "    </tr>\n",
       "    <tr>\n",
       "      <th>3</th>\n",
       "      <td>2020-01-27</td>\n",
       "      <td>CE67AD25-2951-4BEE-96BD-9C2700C61EF4</td>\n",
       "      <td>668</td>\n",
       "      <td>2009-06-13 12:01:20</td>\n",
       "      <td>2009-06-13 12:01:20</td>\n",
       "      <td>0</td>\n",
       "      <td>0</td>\n",
       "      <td>57.5205</td>\n",
       "      <td>Alyona</td>\n",
       "      <td>True</td>\n",
       "      <td>...</td>\n",
       "      <td>NaN</td>\n",
       "      <td>0.0</td>\n",
       "      <td>0.0</td>\n",
       "      <td>NaN</td>\n",
       "      <td>True</td>\n",
       "      <td>Not Default</td>\n",
       "      <td>NaN</td>\n",
       "      <td>NaN</td>\n",
       "      <td>NaN</td>\n",
       "      <td>NaN</td>\n",
       "    </tr>\n",
       "    <tr>\n",
       "      <th>4</th>\n",
       "      <td>2020-01-27</td>\n",
       "      <td>9408BF8C-B159-4D6A-9D61-9C2400A986E3</td>\n",
       "      <td>652</td>\n",
       "      <td>2009-06-10 10:17:13</td>\n",
       "      <td>2009-06-10 10:17:13</td>\n",
       "      <td>0</td>\n",
       "      <td>0</td>\n",
       "      <td>319.5582</td>\n",
       "      <td>Kai</td>\n",
       "      <td>True</td>\n",
       "      <td>...</td>\n",
       "      <td>NaN</td>\n",
       "      <td>0.0</td>\n",
       "      <td>0.0</td>\n",
       "      <td>180+</td>\n",
       "      <td>True</td>\n",
       "      <td>Default</td>\n",
       "      <td>NaN</td>\n",
       "      <td>NaN</td>\n",
       "      <td>NaN</td>\n",
       "      <td>NaN</td>\n",
       "    </tr>\n",
       "  </tbody>\n",
       "</table>\n",
       "<p>5 rows × 118 columns</p>\n",
       "</div>"
      ],
      "text/plain": [
       "  ReportAsOfEOD                                LoanId  LoanNumber  \\\n",
       "0    2020-01-27  F0660C80-83F3-4A97-8DA0-9C250112D6EC         659   \n",
       "1    2020-01-27  978BB85B-1C69-4D51-8447-9C240104A3A2         654   \n",
       "2    2020-01-27  EA44027E-7FA7-4BB2-846D-9C1F013C8A22         641   \n",
       "3    2020-01-27  CE67AD25-2951-4BEE-96BD-9C2700C61EF4         668   \n",
       "4    2020-01-27  9408BF8C-B159-4D6A-9D61-9C2400A986E3         652   \n",
       "\n",
       "           ListedOnUTC     BiddingStartedOn  BidsPortfolioManager  BidsApi  \\\n",
       "0  2009-06-11 16:40:39  2009-06-11 16:40:39                     0        0   \n",
       "1  2009-06-10 15:48:57  2009-06-10 15:48:57                     0        0   \n",
       "2  2009-06-05 19:12:29  2009-06-05 19:12:29                     0        0   \n",
       "3  2009-06-13 12:01:20  2009-06-13 12:01:20                     0        0   \n",
       "4  2009-06-10 10:17:13  2009-06-10 10:17:13                     0        0   \n",
       "\n",
       "   BidsManual  UserName  NewCreditCustomer  ... ReScheduledOn  \\\n",
       "0    115.0410      KARU               True  ...           NaN   \n",
       "1    140.6057  koort681              False  ...           NaN   \n",
       "2    319.5580       0ie               True  ...           NaN   \n",
       "3     57.5205    Alyona               True  ...           NaN   \n",
       "4    319.5582       Kai               True  ...           NaN   \n",
       "\n",
       "  PrincipalDebtServicingCost InterestAndPenaltyDebtServicingCost  \\\n",
       "0                        0.0                                 0.0   \n",
       "1                        0.0                                 0.0   \n",
       "2                        0.0                                 0.0   \n",
       "3                        0.0                                 0.0   \n",
       "4                        0.0                                 0.0   \n",
       "\n",
       "  ActiveLateLastPaymentCategory ActiveScheduleFirstPaymentReached_Cleaned  \\\n",
       "0                           NaN                                      True   \n",
       "1                           NaN                                      True   \n",
       "2                          180+                                      True   \n",
       "3                           NaN                                      True   \n",
       "4                          180+                                      True   \n",
       "\n",
       "        Target  CreditScoreEeMini_Cleaned  CreditScoreEsEquifaxRisk_Cleaned  \\\n",
       "0  Not Default                        NaN                               NaN   \n",
       "1  Not Default                        NaN                               NaN   \n",
       "2      Default                        NaN                               NaN   \n",
       "3  Not Default                        NaN                               NaN   \n",
       "4      Default                        NaN                               NaN   \n",
       "\n",
       "   CreditScoreEsMicroL_Cleaned  CreditScoreFiAsiakasTietoRiskGrade_Cleaned  \n",
       "0                          NaN                                         NaN  \n",
       "1                          NaN                                         NaN  \n",
       "2                          NaN                                         NaN  \n",
       "3                          NaN                                         NaN  \n",
       "4                          NaN                                         NaN  \n",
       "\n",
       "[5 rows x 118 columns]"
      ]
     },
     "execution_count": 27,
     "metadata": {},
     "output_type": "execute_result"
    }
   ],
   "source": [
    "data.head()"
   ]
  },
  {
   "cell_type": "code",
   "execution_count": 37,
   "id": "8f0c3a9e-1db8-49f9-aeec-6dd7beface03",
   "metadata": {},
   "outputs": [
    {
     "name": "stdout",
     "output_type": "stream",
     "text": [
      "UseOfLoan\n",
      "Unknown                            97946\n",
      "Other                               9698\n",
      "Home_improvement                    9191\n",
      "Loan_consolidation                  6914\n",
      "Vehicle                             3150\n",
      "Business                            1950\n",
      "Travel                              1787\n",
      "Health                              1519\n",
      "Education                           1366\n",
      "Real_estate                          955\n",
      "Purchase_of_machinery_equipment       21\n",
      "Other_business                        17\n",
      "Accounts_receivable_financing          6\n",
      "Working_capital_financing              5\n",
      "Acquisition_of_stocks                  2\n",
      "Construction_finance                   1\n",
      "Acquisition_of_real_estate             1\n",
      "Name: count, dtype: int64\n",
      "LanguageCode\n",
      "Estonian     64299\n",
      "Finnish      32155\n",
      "Spanish      24103\n",
      "Russian      12694\n",
      "English        967\n",
      "Slovakian      295\n",
      "Others          11\n",
      "German           5\n",
      "Name: count, dtype: int64\n",
      "Gender\n",
      "Male       85650\n",
      "Female     38213\n",
      "Unknown    10621\n",
      "Name: count, dtype: int64\n",
      "MaritalStatus\n",
      "Not_specified    97954\n",
      "Single           12400\n",
      "Married          10752\n",
      "Cohabitant        9400\n",
      "Divorced          3377\n",
      "Widow              601\n",
      "Name: count, dtype: int64\n",
      "EmploymentStatus\n",
      "Not_specified         97978\n",
      "Fully employed        30060\n",
      "Entrepreneur           2007\n",
      "Retiree                1800\n",
      "Self-employed          1303\n",
      "Partially employed     1184\n",
      "Name: count, dtype: int64\n",
      "HomeOwnershipType\n",
      "Owner                            47334\n",
      "Tenant_pre_furnished_property    29579\n",
      "Living_with_parents              20780\n",
      "Mortgage                         15457\n",
      "Other                             7956\n",
      "Tenant_unfurnished_property       4582\n",
      "Joint_ownership                   3337\n",
      "Joint_tenant                      1618\n",
      "Council_house                     1442\n",
      "Owner_with_encumbrance             743\n",
      "Homeless                            46\n",
      "Not_specified                        3\n",
      "Name: count, dtype: int64\n"
     ]
    }
   ],
   "source": [
    "# Apply the mappings directly to the existing columns without renaming\n",
    "data['UseOfLoan'] = data['UseOfLoan'].replace({\n",
    "    -1: 'Unknown', 0: 'Loan_consolidation', 1: 'Real_estate',\n",
    "    2: 'Home_improvement', 3: 'Business', 4: 'Education',\n",
    "    5: 'Travel', 6: 'Vehicle', 7: 'Other', 8: 'Health',\n",
    "    101: 'Working_capital_financing', 102: 'Purchase_of_machinery_equipment',\n",
    "    104: 'Accounts_receivable_financing', 106: 'Construction_finance',\n",
    "    107: 'Acquisition_of_stocks', 108: 'Acquisition_of_real_estate',\n",
    "    110: 'Other_business'\n",
    "})\n",
    "\n",
    "data['LanguageCode'] = data['LanguageCode'].replace({\n",
    "    1: 'Estonian', 2: 'English', 3: 'Russian', 4: 'Finnish',\n",
    "    5: 'German', 6: 'Spanish', 9: 'Slovakian', 7: 'Others',\n",
    "    10: 'Others', 13: 'Others', 15: 'Others', 21: 'Others',\n",
    "    22: 'Others'\n",
    "})\n",
    "\n",
    "data['Gender'] = data['Gender'].replace({\n",
    "    0.0: 'Male', 1.0: 'Female', 2.0: 'Unknown'\n",
    "})\n",
    "\n",
    "data['MaritalStatus'] = data['MaritalStatus'].replace({\n",
    "    1.0: 'Married', 2.0: 'Cohabitant', 3.0: 'Single',\n",
    "    4.0: 'Divorced', 5.0: 'Widow', -1.0: 'Not_specified',\n",
    "    0.0: 'Not_specified'\n",
    "})\n",
    "\n",
    "data['EmploymentStatus'] = data['EmploymentStatus'].replace({\n",
    "    1.0: 'Unemployed', 2.0: 'Partially employed', 3.0: 'Fully employed',\n",
    "    4.0: 'Self-employed', 5.0: 'Entrepreneur', 6.0: 'Retiree',\n",
    "    -1.0: 'Not_specified', 0.0: 'Not_specified'\n",
    "})\n",
    "\n",
    "data['HomeOwnershipType'] = data['HomeOwnershipType'].replace({\n",
    "    -1.0: 'Not_specified', 0.0: 'Homeless', 1.0: 'Owner',\n",
    "    2.0: 'Living_with_parents', 3.0: 'Tenant_pre_furnished_property',\n",
    "    4.0: 'Tenant_unfurnished_property', 5.0: 'Council_house',\n",
    "    6.0: 'Joint_tenant', 7.0: 'Joint_ownership', 8.0: 'Mortgage',\n",
    "    9.0: 'Owner_with_encumbrance', 10.0: 'Other'\n",
    "})\n",
    "\n",
    "# Optional: Check the transformed columns if needed\n",
    "print(data['UseOfLoan'].value_counts())\n",
    "print(data['LanguageCode'].value_counts())\n",
    "print(data['Gender'].value_counts())\n",
    "print(data['MaritalStatus'].value_counts())\n",
    "print(data['EmploymentStatus'].value_counts())\n",
    "print(data['HomeOwnershipType'].value_counts())\n"
   ]
  },
  {
   "cell_type": "code",
   "execution_count": 28,
   "id": "cd8e5966-d768-4141-a2c7-bfeb40755010",
   "metadata": {},
   "outputs": [
    {
     "name": "stderr",
     "output_type": "stream",
     "text": [
      "C:\\Users\\Lenovo\\AppData\\Local\\Temp\\ipykernel_10332\\2442024356.py:2: DtypeWarning: Columns (34,38,80,82,83,89,90,115,116) have mixed types. Specify dtype option on import or set low_memory=False.\n",
      "  transformed_data = pd.read_csv('Bondora_raw_transformed.csv')\n"
     ]
    },
    {
     "name": "stdout",
     "output_type": "stream",
     "text": [
      "  ReportAsOfEOD                                LoanId  LoanNumber  \\\n",
      "0    2020-01-27  F0660C80-83F3-4A97-8DA0-9C250112D6EC         659   \n",
      "1    2020-01-27  978BB85B-1C69-4D51-8447-9C240104A3A2         654   \n",
      "2    2020-01-27  EA44027E-7FA7-4BB2-846D-9C1F013C8A22         641   \n",
      "3    2020-01-27  CE67AD25-2951-4BEE-96BD-9C2700C61EF4         668   \n",
      "4    2020-01-27  9408BF8C-B159-4D6A-9D61-9C2400A986E3         652   \n",
      "\n",
      "           ListedOnUTC     BiddingStartedOn  BidsPortfolioManager  BidsApi  \\\n",
      "0  2009-06-11 16:40:39  2009-06-11 16:40:39                     0        0   \n",
      "1  2009-06-10 15:48:57  2009-06-10 15:48:57                     0        0   \n",
      "2  2009-06-05 19:12:29  2009-06-05 19:12:29                     0        0   \n",
      "3  2009-06-13 12:01:20  2009-06-13 12:01:20                     0        0   \n",
      "4  2009-06-10 10:17:13  2009-06-10 10:17:13                     0        0   \n",
      "\n",
      "   BidsManual  UserName  NewCreditCustomer  ... ReScheduledOn  \\\n",
      "0    115.0410      KARU               True  ...           NaN   \n",
      "1    140.6057  koort681              False  ...           NaN   \n",
      "2    319.5580       0ie               True  ...           NaN   \n",
      "3     57.5205    Alyona               True  ...           NaN   \n",
      "4    319.5582       Kai               True  ...           NaN   \n",
      "\n",
      "  PrincipalDebtServicingCost InterestAndPenaltyDebtServicingCost  \\\n",
      "0                        0.0                                 0.0   \n",
      "1                        0.0                                 0.0   \n",
      "2                        0.0                                 0.0   \n",
      "3                        0.0                                 0.0   \n",
      "4                        0.0                                 0.0   \n",
      "\n",
      "  ActiveLateLastPaymentCategory ActiveScheduleFirstPaymentReached_Cleaned  \\\n",
      "0                           NaN                                      True   \n",
      "1                           NaN                                      True   \n",
      "2                          180+                                      True   \n",
      "3                           NaN                                      True   \n",
      "4                          180+                                      True   \n",
      "\n",
      "        Target  CreditScoreEeMini_Cleaned  CreditScoreEsEquifaxRisk_Cleaned  \\\n",
      "0  Not Default                        NaN                               NaN   \n",
      "1  Not Default                        NaN                               NaN   \n",
      "2      Default                        NaN                               NaN   \n",
      "3  Not Default                        NaN                               NaN   \n",
      "4      Default                        NaN                               NaN   \n",
      "\n",
      "   CreditScoreEsMicroL_Cleaned  CreditScoreFiAsiakasTietoRiskGrade_Cleaned  \n",
      "0                          NaN                                         NaN  \n",
      "1                          NaN                                         NaN  \n",
      "2                          NaN                                         NaN  \n",
      "3                          NaN                                         NaN  \n",
      "4                          NaN                                         NaN  \n",
      "\n",
      "[5 rows x 118 columns]\n",
      "UseOfLoan\n",
      "-1    97946\n",
      " 7     9698\n",
      " 2     9191\n",
      " 0     6914\n",
      " 6     3150\n",
      " 3     1950\n",
      " 5     1787\n",
      " 8     1519\n",
      " 4     1366\n",
      " 1      955\n",
      "Name: count, dtype: int64\n"
     ]
    }
   ],
   "source": [
    "data.to_csv('Bondora_raw_transformed.csv', index=False)\n",
    "transformed_data = pd.read_csv('Bondora_raw_transformed.csv')\n",
    "print(transformed_data.head())\n",
    "print(transformed_data['UseOfLoan'].value_counts())"
   ]
  },
  {
   "cell_type": "code",
   "execution_count": 39,
   "id": "d8ce2b19-05c9-4b7c-b89e-74c78cb0024c",
   "metadata": {},
   "outputs": [],
   "source": [
    "data_cleaned = transformed_data.drop_duplicates()\n"
   ]
  },
  {
   "cell_type": "code",
   "execution_count": 29,
   "id": "8f695368-fd59-4948-b632-1011d0b0fa1e",
   "metadata": {},
   "outputs": [
    {
     "name": "stdout",
     "output_type": "stream",
     "text": [
      "ReportAsOfEOD                                      0\n",
      "LoanId                                             0\n",
      "LoanNumber                                         0\n",
      "ListedOnUTC                                        0\n",
      "BiddingStartedOn                                   0\n",
      "                                               ...  \n",
      "Target                                             0\n",
      "CreditScoreEeMini_Cleaned                      62754\n",
      "CreditScoreEsEquifaxRisk_Cleaned              122257\n",
      "CreditScoreEsMicroL_Cleaned                   121960\n",
      "CreditScoreFiAsiakasTietoRiskGrade_Cleaned    101959\n",
      "Length: 118, dtype: int64\n"
     ]
    }
   ],
   "source": [
    "missing_values = transformed_data.isnull().sum()\n",
    "print(missing_values)\n"
   ]
  },
  {
   "cell_type": "code",
   "execution_count": 41,
   "id": "eddd29a9-2763-4dcb-ba95-ccb069f3b291",
   "metadata": {},
   "outputs": [
    {
     "name": "stdout",
     "output_type": "stream",
     "text": [
      "Numerical columns (int and float types):\n",
      "Index(['LoanNumber', 'BidsPortfolioManager', 'BidsApi', 'BidsManual',\n",
      "       'ApplicationSignedHour', 'ApplicationSignedWeekday', 'VerificationType',\n",
      "       'Age', 'AppliedAmount', 'Amount', 'Interest', 'LoanDuration',\n",
      "       'MonthlyPayment', 'Education', 'OccupationArea',\n",
      "       'IncomeFromPrincipalEmployer', 'IncomeFromPension',\n",
      "       'IncomeFromFamilyAllowance', 'IncomeFromSocialWelfare',\n",
      "       'IncomeFromLeavePay', 'IncomeFromChildSupport', 'IncomeOther',\n",
      "       'IncomeTotal', 'ExistingLiabilities', 'LiabilitiesTotal',\n",
      "       'RefinanceLiabilities', 'DebtToIncome', 'FreeCash', 'MonthlyPaymentDay',\n",
      "       'PlannedPrincipalTillDate', 'PlannedInterestTillDate',\n",
      "       'CurrentDebtDaysPrimary', 'CurrentDebtDaysSecondary', 'ExpectedLoss',\n",
      "       'LossGivenDefault', 'ExpectedReturn', 'ProbabilityOfDefault',\n",
      "       'PrincipalOverdueBySchedule', 'PlannedPrincipalPostDefault',\n",
      "       'PlannedInterestPostDefault', 'EAD1', 'EAD2', 'PrincipalRecovery',\n",
      "       'InterestRecovery', 'RecoveryStage', 'ModelVersion', 'EL_V0', 'EL_V1',\n",
      "       'CreditScoreEeMini', 'PrincipalPaymentsMade',\n",
      "       'InterestAndPenaltyPaymentsMade', 'PrincipalWriteOffs',\n",
      "       'InterestAndPenaltyWriteOffs', 'PrincipalBalance',\n",
      "       'InterestAndPenaltyBalance', 'NoOfPreviousLoansBeforeLoan',\n",
      "       'AmountOfPreviousLoansBeforeLoan', 'PreviousRepaymentsBeforeLoan',\n",
      "       'PreviousEarlyRepaymentsBefoleLoan',\n",
      "       'PreviousEarlyRepaymentsCountBeforeLoan', 'NextPaymentNr',\n",
      "       'NrOfScheduledPayments', 'PrincipalDebtServicingCost',\n",
      "       'InterestAndPenaltyDebtServicingCost'],\n",
      "      dtype='object')\n"
     ]
    }
   ],
   "source": [
    "numerical_columns = data.select_dtypes(include=['int64', 'float64']).columns\n",
    "\n",
    "# Display the numerical columns\n",
    "print(\"Numerical columns (int and float types):\")\n",
    "print(numerical_columns)"
   ]
  },
  {
   "cell_type": "code",
   "execution_count": 30,
   "id": "f3b2f65b-b091-475b-a3ff-9bbeff6743e5",
   "metadata": {},
   "outputs": [
    {
     "name": "stdout",
     "output_type": "stream",
     "text": [
      "['2010-07-06' '2009-07-07' Timestamp('2099-01-01 00:00:00') ...\n",
      " '2021-01-06' '2015-09-05' '2015-06-20']\n",
      "0\n"
     ]
    }
   ],
   "source": [
    "transformed_data['ContractEndDate'] = transformed_data['ContractEndDate'].fillna(pd.to_datetime('2099-01-01'))\n",
    "print(transformed_data['ContractEndDate'].unique())\n",
    "print(transformed_data['ContractEndDate'].isna().sum())"
   ]
  },
  {
   "cell_type": "code",
   "execution_count": 31,
   "id": "9851baf7-c498-4829-8d27-2f367bd96cda",
   "metadata": {},
   "outputs": [
    {
     "name": "stdout",
     "output_type": "stream",
     "text": [
      "ReportAsOfEOD 0\n",
      "LoanId 0\n",
      "LoanNumber 0\n",
      "ListedOnUTC 0\n",
      "BiddingStartedOn 0\n",
      "BidsPortfolioManager 0\n",
      "BidsApi 0\n",
      "BidsManual 0\n",
      "UserName 0\n",
      "NewCreditCustomer 0\n",
      "LoanApplicationStartedDate 0\n",
      "LoanDate 0\n",
      "ContractEndDate 0\n",
      "FirstPaymentDate 0\n",
      "MaturityDate_Original 0\n",
      "MaturityDate_Last 0\n",
      "ApplicationSignedHour 0\n",
      "ApplicationSignedWeekday 0\n",
      "VerificationType 0\n",
      "LanguageCode 0\n",
      "Age 0\n",
      "DateOfBirth 0\n",
      "Gender 0\n",
      "Country 0\n",
      "AppliedAmount 0\n",
      "Amount 0\n",
      "Interest 0\n",
      "LoanDuration 0\n",
      "MonthlyPayment 6640\n",
      "County 36842\n",
      "City 9794\n",
      "UseOfLoan 0\n",
      "Education 0\n",
      "MaritalStatus 0\n",
      "NrOfDependants 98876\n",
      "EmploymentStatus 152\n",
      "EmploymentDurationCurrentEmployer 0\n",
      "EmploymentPosition 0\n",
      "WorkExperience 97954\n",
      "OccupationArea 41\n",
      "HomeOwnershipType 1607\n",
      "IncomeFromPrincipalEmployer 0\n",
      "IncomeFromPension 0\n",
      "IncomeFromFamilyAllowance 0\n",
      "IncomeFromSocialWelfare 0\n",
      "IncomeFromLeavePay 0\n",
      "IncomeFromChildSupport 0\n",
      "IncomeOther 0\n",
      "IncomeTotal 0\n",
      "ExistingLiabilities 0\n",
      "LiabilitiesTotal 0\n",
      "RefinanceLiabilities 0\n",
      "DebtToIncome 0\n",
      "FreeCash 0\n",
      "MonthlyPaymentDay 0\n",
      "ActiveScheduleFirstPaymentReached 0\n",
      "PlannedPrincipalTillDate 80070\n",
      "PlannedInterestTillDate 3942\n",
      "LastPaymentOn 9523\n",
      "CurrentDebtDaysPrimary 85980\n",
      "DebtOccuredOn 85980\n",
      "CurrentDebtDaysSecondary 82248\n",
      "DebtOccuredOnForSecondary 82248\n",
      "ExpectedLoss 2591\n",
      "LossGivenDefault 2591\n",
      "ExpectedReturn 2591\n",
      "ProbabilityOfDefault 2591\n",
      "DefaultDate 91588\n",
      "PrincipalOverdueBySchedule 14784\n",
      "PlannedPrincipalPostDefault 91588\n",
      "PlannedInterestPostDefault 91588\n",
      "EAD1 91588\n",
      "EAD2 91588\n",
      "PrincipalRecovery 91588\n",
      "InterestRecovery 91588\n",
      "RecoveryStage 57235\n",
      "StageActiveSince 53522\n",
      "ModelVersion 2591\n",
      "Rating 2677\n",
      "EL_V0 129907\n",
      "Rating_V0 129907\n",
      "EL_V1 121554\n",
      "Rating_V1 121554\n",
      "Rating_V2 109333\n",
      "Status 0\n",
      "Restructured 0\n",
      "ActiveLateCategory 0\n",
      "WorseLateCategory 45442\n",
      "CreditScoreEsMicroL 29521\n",
      "CreditScoreEsEquifaxRisk 122257\n",
      "CreditScoreFiAsiakasTietoRiskGrade 101958\n",
      "CreditScoreEeMini 62754\n",
      "PrincipalPaymentsMade 0\n",
      "InterestAndPenaltyPaymentsMade 0\n",
      "PrincipalWriteOffs 75400\n",
      "InterestAndPenaltyWriteOffs 75400\n",
      "PrincipalBalance 0\n",
      "InterestAndPenaltyBalance 0\n",
      "NoOfPreviousLoansBeforeLoan 0\n",
      "AmountOfPreviousLoansBeforeLoan 0\n",
      "PreviousRepaymentsBeforeLoan 43161\n",
      "PreviousEarlyRepaymentsBefoleLoan 76503\n",
      "PreviousEarlyRepaymentsCountBeforeLoan 0\n",
      "GracePeriodStart 115688\n",
      "GracePeriodEnd 115688\n",
      "NextPaymentDate 68832\n",
      "NextPaymentNr 36688\n",
      "NrOfScheduledPayments 36688\n",
      "ReScheduledOn 94154\n",
      "PrincipalDebtServicingCost 75400\n",
      "InterestAndPenaltyDebtServicingCost 75400\n",
      "ActiveLateLastPaymentCategory 82248\n",
      "ActiveScheduleFirstPaymentReached_Cleaned 0\n",
      "Target 0\n",
      "CreditScoreEeMini_Cleaned 62754\n",
      "CreditScoreEsEquifaxRisk_Cleaned 122257\n",
      "CreditScoreEsMicroL_Cleaned 121960\n",
      "CreditScoreFiAsiakasTietoRiskGrade_Cleaned 101959\n"
     ]
    }
   ],
   "source": [
    "da = transformed_data.dropna(how='all')\n",
    "for i in transformed_data:\n",
    "    print(i,transformed_data[i].isnull().sum())\n"
   ]
  },
  {
   "cell_type": "code",
   "execution_count": 32,
   "id": "26721449-0a7d-471d-9d31-3f83549d55cc",
   "metadata": {},
   "outputs": [],
   "source": [
    "# removing the columns having more than 40% missing values\n",
    "missing_values=[]\n",
    "for i in transformed_data.columns:\n",
    "    if transformed_data[i].isnull().sum() >= (60*134529)/100:\n",
    "        missing_values.append(i)\n",
    "missing_values.remove(\"DefaultDate\")"
   ]
  },
  {
   "cell_type": "code",
   "execution_count": 33,
   "id": "9c048358-92b9-41e2-9b56-8b6195ff465c",
   "metadata": {},
   "outputs": [
    {
     "data": {
      "text/plain": [
       "(134476, 92)"
      ]
     },
     "execution_count": 33,
     "metadata": {},
     "output_type": "execute_result"
    }
   ],
   "source": [
    "miss_col=missing_values\n",
    "df1=transformed_data.drop(miss_col,axis=1)\n",
    "df1.shape\n"
   ]
  },
  {
   "cell_type": "code",
   "execution_count": 34,
   "id": "4cef405f-4f9b-4fbd-831b-a1a612d9113a",
   "metadata": {},
   "outputs": [],
   "source": [
    "df1.drop(df1[df1['Age']<18].index,inplace=True)\n"
   ]
  },
  {
   "cell_type": "code",
   "execution_count": 35,
   "id": "24beb49f-c8fa-49b2-bac3-2b10cf8bb3c8",
   "metadata": {},
   "outputs": [],
   "source": [
    "del_col=['ReportAsOfEOD', 'ListedOnUTC', 'DateOfBirth',\n",
    "       'BiddingStartedOn','UserName','NextPaymentNr',\n",
    "       'IncomeFromPrincipalEmployer', 'IncomeFromPension',\n",
    "       'IncomeFromFamilyAllowance', 'IncomeFromSocialWelfare',\n",
    "       'IncomeFromLeavePay', 'IncomeFromChildSupport', 'IncomeOther','LoanApplicationStartedDate','ApplicationSignedHour',\n",
    "       'ApplicationSignedWeekday','ActiveScheduleFirstPaymentReached', 'PlannedInterestTillDate',\n",
    "         'ExpectedReturn',\n",
    "      'PrincipalOverdueBySchedule',\n",
    "       'StageActiveSince', 'ModelVersion','WorseLateCategory']"
   ]
  },
  {
   "cell_type": "code",
   "execution_count": 36,
   "id": "698b36e4-2a41-49f8-a9c6-4274134e710f",
   "metadata": {},
   "outputs": [],
   "source": [
    "df1.drop(df1[df1['Age']<18].index,inplace=True)\n"
   ]
  },
  {
   "cell_type": "code",
   "execution_count": 37,
   "id": "0f5151ce-053b-4dff-8b5d-d0841ce7200c",
   "metadata": {},
   "outputs": [
    {
     "data": {
      "text/plain": [
       "(134476, 92)"
      ]
     },
     "execution_count": 37,
     "metadata": {},
     "output_type": "execute_result"
    }
   ],
   "source": [
    "df1.shape"
   ]
  },
  {
   "cell_type": "code",
   "execution_count": 38,
   "id": "082bb7d8-dadb-447d-9bc8-80f3b1484771",
   "metadata": {},
   "outputs": [
    {
     "data": {
      "text/plain": [
       "Status\n",
       "Current    57135\n",
       "Late       45772\n",
       "Repaid     31569\n",
       "Name: count, dtype: int64"
      ]
     },
     "execution_count": 38,
     "metadata": {},
     "output_type": "execute_result"
    }
   ],
   "source": [
    "df1.Status.value_counts()\n"
   ]
  },
  {
   "cell_type": "code",
   "execution_count": 51,
   "id": "12816ef3-abbb-461c-bd36-69324285eaa7",
   "metadata": {},
   "outputs": [],
   "source": [
    "df1=df1[df1.Status!='Current']"
   ]
  },
  {
   "cell_type": "code",
   "execution_count": 39,
   "id": "1c0ef7ee-d413-4b29-8a1c-18c7b4c41931",
   "metadata": {},
   "outputs": [
    {
     "data": {
      "text/plain": [
       "Status\n",
       "Current    57135\n",
       "Late       45772\n",
       "Repaid     31569\n",
       "Name: count, dtype: int64"
      ]
     },
     "execution_count": 39,
     "metadata": {},
     "output_type": "execute_result"
    }
   ],
   "source": [
    "df1.Status.value_counts()\n"
   ]
  },
  {
   "cell_type": "code",
   "execution_count": 40,
   "id": "f2078c5c-46a9-40ab-87b1-e464a3fb2642",
   "metadata": {},
   "outputs": [
    {
     "name": "stdout",
     "output_type": "stream",
     "text": [
      "        Status DefaultDate  Target\n",
      "0       Repaid         NaN       0\n",
      "1       Repaid         NaN       0\n",
      "2         Late  2012-07-16       1\n",
      "3       Repaid         NaN       0\n",
      "4       Repaid  2009-09-28       0\n",
      "...        ...         ...     ...\n",
      "134471  Repaid  2015-05-04       0\n",
      "134472  Repaid         NaN       0\n",
      "134473    Late  2015-08-04       1\n",
      "134474  Repaid  2016-06-17       0\n",
      "134475    Late  2015-12-30       1\n",
      "\n",
      "[77341 rows x 3 columns]\n"
     ]
    },
    {
     "name": "stderr",
     "output_type": "stream",
     "text": [
      "C:\\Users\\Lenovo\\AppData\\Local\\Temp\\ipykernel_10332\\1707457503.py:5: SettingWithCopyWarning: \n",
      "A value is trying to be set on a copy of a slice from a DataFrame.\n",
      "Try using .loc[row_indexer,col_indexer] = value instead\n",
      "\n",
      "See the caveats in the documentation: https://pandas.pydata.org/pandas-docs/stable/user_guide/indexing.html#returning-a-view-versus-a-copy\n",
      "  filtered_data['Target'] = 0\n"
     ]
    }
   ],
   "source": [
    "filtered_data = df1[df1['Status'] != 'Current']\n",
    "\n",
    "# Step 2: Create the Target variable\n",
    "# Initialize all as approved (Target = 0)\n",
    "filtered_data['Target'] = 0\n",
    "\n",
    "# Step 3: Set Target = 1 for defaulted loans\n",
    "filtered_data.loc[(filtered_data['Status'] == 'Late') & (filtered_data['DefaultDate'].notnull()), 'Target'] = 1\n",
    "\n",
    "# Display the DataFrame with the new Target column\n",
    "print(filtered_data[['Status', 'DefaultDate', 'Target']])\n",
    "\n"
   ]
  },
  {
   "cell_type": "code",
   "execution_count": 41,
   "id": "0b0dccfc-72ab-47bf-a9b8-dc940aa0c369",
   "metadata": {},
   "outputs": [
    {
     "name": "stdout",
     "output_type": "stream",
     "text": [
      "Approval Rate: 52.02%\n"
     ]
    }
   ],
   "source": [
    "# Total number of loans\n",
    "total_loans = len(filtered_data)\n",
    "\n",
    "# Number of approved loans\n",
    "approved_loans = len(filtered_data[filtered_data['Target'] == 0])\n",
    "\n",
    "# Approval rate\n",
    "approval_rate = (approved_loans / total_loans) * 100\n",
    "print(f\"Approval Rate: {approval_rate:.2f}%\")\n"
   ]
  },
  {
   "cell_type": "code",
   "execution_count": 42,
   "id": "ea26d9d4-a0aa-4599-8884-91b336c81bef",
   "metadata": {},
   "outputs": [
    {
     "name": "stdout",
     "output_type": "stream",
     "text": [
      "Average Loan Amount (Approved): 2311.45\n",
      "Average Loan Amount (Not Approved): 2647.60\n"
     ]
    }
   ],
   "source": [
    "import pandas as pd\n",
    "\n",
    "# Assuming filtered_data is the DataFrame after filtering and creating the Target variable\n",
    "\n",
    "# Calculate the average loan amount for approved loans (Target = 0)\n",
    "avg_loan_amount_approved = filtered_data[filtered_data['Target'] == 0]['Amount'].mean()\n",
    "\n",
    "# Calculate the average loan amount for not approved (defaulted) loans (Target = 1)\n",
    "avg_loan_amount_not_approved = filtered_data[filtered_data['Target'] == 1]['Amount'].mean()\n",
    "\n",
    "print(f\"Average Loan Amount (Approved): {avg_loan_amount_approved:.2f}\")\n",
    "print(f\"Average Loan Amount (Not Approved): {avg_loan_amount_not_approved:.2f}\")\n"
   ]
  },
  {
   "cell_type": "code",
   "execution_count": 43,
   "id": "9fcabd15-0bdb-4c71-ad98-79a5ac029a64",
   "metadata": {},
   "outputs": [
    {
     "name": "stdout",
     "output_type": "stream",
     "text": [
      "   UseOfLoan  ApprovalRate\n",
      "0         -1     49.847206\n",
      "1          0     59.183673\n",
      "2          1     58.481613\n",
      "3          2     52.011849\n",
      "4          3     55.593804\n",
      "5          4     54.487689\n",
      "6          5     55.582973\n",
      "7          6     61.199723\n",
      "8          7     52.128613\n",
      "9          8     53.328456\n"
     ]
    },
    {
     "name": "stderr",
     "output_type": "stream",
     "text": [
      "C:\\Users\\Lenovo\\AppData\\Local\\Temp\\ipykernel_10332\\759307103.py:4: DeprecationWarning: DataFrameGroupBy.apply operated on the grouping columns. This behavior is deprecated, and in a future version of pandas the grouping columns will be excluded from the operation. Either pass `include_groups=False` to exclude the groupings or explicitly select the grouping columns after groupby to silence this warning.\n",
      "  .apply(lambda x: (x['Target'] == 0).sum() / len(x) * 100)\n"
     ]
    }
   ],
   "source": [
    "# Group by UseOfLoan and calculate the count of approved (Target = 0) and total loans\n",
    "approval_rate_by_loan_purpose = (\n",
    "    filtered_data.groupby('UseOfLoan')\n",
    "    .apply(lambda x: (x['Target'] == 0).sum() / len(x) * 100)\n",
    "    .reset_index(name='ApprovalRate')\n",
    ")\n",
    "\n",
    "# Display the approval rates by loan purpose\n",
    "print(approval_rate_by_loan_purpose)"
   ]
  },
  {
   "cell_type": "code",
   "execution_count": 44,
   "id": "9345641b-9bbb-4e87-b8a8-f10fe60ee39c",
   "metadata": {},
   "outputs": [
    {
     "name": "stdout",
     "output_type": "stream",
     "text": [
      "count    7.734100e+04\n",
      "mean     1.870255e+03\n",
      "std      6.195416e+03\n",
      "min      0.000000e+00\n",
      "25%      8.900000e+02\n",
      "50%      1.300000e+03\n",
      "75%      2.000000e+03\n",
      "max      1.012019e+06\n",
      "Name: IncomeTotal, dtype: float64\n"
     ]
    },
    {
     "data": {
      "image/png": "[encoded data removed]",
      "text/plain": [
       "<Figure size 1000x600 with 1 Axes>"
      ]
     },
     "metadata": {},
     "output_type": "display_data"
    },
    {
     "name": "stdout",
     "output_type": "stream",
     "text": [
      "IncomeTotal\n",
      "0.00          4\n",
      "1.00          5\n",
      "1.05          1\n",
      "1.18          1\n",
      "1.40          3\n",
      "             ..\n",
      "220000.00     1\n",
      "228550.00     1\n",
      "235000.00     1\n",
      "280000.00     1\n",
      "1012019.00    2\n",
      "Name: count, Length: 3744, dtype: int64\n"
     ]
    }
   ],
   "source": [
    "import pandas as pd\n",
    "import matplotlib.pyplot as plt\n",
    "\n",
    "# Assuming filtered_data is the DataFrame after filtering and creating the Target variable\n",
    "\n",
    "# Step 1: Describe the IncomeTotal to understand its distribution\n",
    "income_description = filtered_data['IncomeTotal'].describe()\n",
    "print(income_description)\n",
    "\n",
    "# Step 2: Plot the distribution of IncomeTotal\n",
    "plt.figure(figsize=(10, 6))\n",
    "plt.hist(filtered_data['IncomeTotal'], bins=50, edgecolor='k', alpha=0.7)\n",
    "plt.title('Income Distribution')\n",
    "plt.xlabel('IncomeTotal')\n",
    "plt.ylabel('Frequency')\n",
    "plt.show()\n",
    "\n",
    "# Step 3: Check unique values and their frequencies (optional, if distribution is discrete)\n",
    "income_value_counts = filtered_data['IncomeTotal'].value_counts().sort_index()\n",
    "print(income_value_counts)\n"
   ]
  },
  {
   "cell_type": "code",
   "execution_count": 45,
   "id": "54d66082-4b80-418d-b4ba-3491c0700625",
   "metadata": {},
   "outputs": [
    {
     "name": "stdout",
     "output_type": "stream",
     "text": [
      "IncomeBracket\n",
      "Low Income             56.193570\n",
      "Lower-Middle Income    49.067746\n",
      "Upper-Middle Income    46.903533\n",
      "High Income            75.883953\n",
      "Very High Income       81.923972\n",
      "Name: Target, dtype: float64\n"
     ]
    },
    {
     "name": "stderr",
     "output_type": "stream",
     "text": [
      "C:\\Users\\Lenovo\\AppData\\Local\\Temp\\ipykernel_10332\\4230806883.py:8: SettingWithCopyWarning: \n",
      "A value is trying to be set on a copy of a slice from a DataFrame.\n",
      "Try using .loc[row_indexer,col_indexer] = value instead\n",
      "\n",
      "See the caveats in the documentation: https://pandas.pydata.org/pandas-docs/stable/user_guide/indexing.html#returning-a-view-versus-a-copy\n",
      "  filtered_data['IncomeBracket'] = pd.cut(filtered_data['IncomeTotal'], bins=income_bins, labels=income_labels)\n",
      "C:\\Users\\Lenovo\\AppData\\Local\\Temp\\ipykernel_10332\\4230806883.py:11: FutureWarning: The default of observed=False is deprecated and will be changed to True in a future version of pandas. Pass observed=False to retain current behavior or observed=True to adopt the future default and silence this warning.\n",
      "  approval_rate_by_income = filtered_data.groupby('IncomeBracket')['Target'].apply(lambda x: (x == 0).mean() * 100)\n"
     ]
    }
   ],
   "source": [
    "import pandas as pd\n",
    "\n",
    "# Create income brackets\n",
    "income_bins = [0, 1000, 2000, 5000, 10000, float('inf')]\n",
    "income_labels = ['Low Income', 'Lower-Middle Income', 'Upper-Middle Income', 'High Income', 'Very High Income']\n",
    "\n",
    "# Add a column to categorize income into brackets\n",
    "filtered_data['IncomeBracket'] = pd.cut(filtered_data['IncomeTotal'], bins=income_bins, labels=income_labels)\n",
    "\n",
    "# Calculate approval rate by income bracket\n",
    "approval_rate_by_income = filtered_data.groupby('IncomeBracket')['Target'].apply(lambda x: (x == 0).mean() * 100)\n",
    "\n",
    "# Display results\n",
    "print(approval_rate_by_income)\n"
   ]
  },
  {
   "cell_type": "code",
   "execution_count": 46,
   "id": "dc9ec978-d206-49fc-995c-743188c8eee3",
   "metadata": {},
   "outputs": [
    {
     "name": "stdout",
     "output_type": "stream",
     "text": [
      "Requirement already satisfied: matplotlib in c:\\python312\\lib\\site-packages (3.9.2)\n",
      "Requirement already satisfied: contourpy>=1.0.1 in c:\\python312\\lib\\site-packages (from matplotlib) (1.3.0)\n",
      "Requirement already satisfied: cycler>=0.10 in c:\\python312\\lib\\site-packages (from matplotlib) (0.12.1)\n",
      "Requirement already satisfied: fonttools>=4.22.0 in c:\\python312\\lib\\site-packages (from matplotlib) (4.53.1)\n",
      "Requirement already satisfied: kiwisolver>=1.3.1 in c:\\python312\\lib\\site-packages (from matplotlib) (1.4.5)\n",
      "Requirement already satisfied: numpy>=1.23 in c:\\python312\\lib\\site-packages (from matplotlib) (2.1.1)\n",
      "Requirement already satisfied: packaging>=20.0 in c:\\python312\\lib\\site-packages (from matplotlib) (24.1)\n",
      "Requirement already satisfied: pillow>=8 in c:\\python312\\lib\\site-packages (from matplotlib) (10.4.0)\n",
      "Requirement already satisfied: pyparsing>=2.3.1 in c:\\python312\\lib\\site-packages (from matplotlib) (3.1.4)\n",
      "Requirement already satisfied: python-dateutil>=2.7 in c:\\python312\\lib\\site-packages (from matplotlib) (2.9.0.post0)\n",
      "Requirement already satisfied: six>=1.5 in c:\\python312\\lib\\site-packages (from python-dateutil>=2.7->matplotlib) (1.16.0)\n"
     ]
    }
   ],
   "source": [
    "!pip install matplotlib"
   ]
  },
  {
   "cell_type": "code",
   "execution_count": 47,
   "id": "c1181f6c-e068-45f6-b889-86dd087fcef6",
   "metadata": {},
   "outputs": [
    {
     "name": "stderr",
     "output_type": "stream",
     "text": [
      "C:\\Users\\Lenovo\\AppData\\Local\\Temp\\ipykernel_10332\\2482434347.py:7: FutureWarning: A value is trying to be set on a copy of a DataFrame or Series through chained assignment using an inplace method.\n",
      "The behavior will change in pandas 3.0. This inplace method will never work because the intermediate object on which we are setting values always behaves as a copy.\n",
      "\n",
      "For example, when doing 'df[col].method(value, inplace=True)', try using 'df.method({col: value}, inplace=True)' or df[col] = df[col].method(value) instead, to perform the operation inplace on the original object.\n",
      "\n",
      "\n",
      "  filtered_data['CreditScoreEeMini_Cleaned'].fillna('Unknown', inplace=True)\n",
      "C:\\Users\\Lenovo\\AppData\\Local\\Temp\\ipykernel_10332\\2482434347.py:7: SettingWithCopyWarning: \n",
      "A value is trying to be set on a copy of a slice from a DataFrame\n",
      "\n",
      "See the caveats in the documentation: https://pandas.pydata.org/pandas-docs/stable/user_guide/indexing.html#returning-a-view-versus-a-copy\n",
      "  filtered_data['CreditScoreEeMini_Cleaned'].fillna('Unknown', inplace=True)\n"
     ]
    },
    {
     "name": "stdout",
     "output_type": "stream",
     "text": [
      "CreditScoreEeMini_Cleaned\n",
      "No previous payments problems                  61.040516\n",
      "Payment problems finished < 6 months ago       57.095270\n",
      "Payments problems finished 6-12 months ago     56.057348\n",
      "Payments problems finished 12-24 months ago    53.090072\n",
      "Payments problems finished 24-36 months ago    52.062475\n",
      "Active payment problems                        48.648649\n",
      "Unknown                                        46.195728\n",
      "Name: Target, dtype: float64\n"
     ]
    },
    {
     "data": {
      "image/png": "[encoded data removed]",
      "text/plain": [
       "<Figure size 640x480 with 1 Axes>"
      ]
     },
     "metadata": {},
     "output_type": "display_data"
    }
   ],
   "source": [
    "\n",
    "import pandas as pd\n",
    "import matplotlib.pyplot as plt\n",
    "\n",
    "# Assuming filtered_data already has the 'Target' column defined\n",
    "\n",
    "# Fill missing CreditScoreEsEquifaxRisk with 'Unknown'\n",
    "filtered_data['CreditScoreEeMini_Cleaned'].fillna('Unknown', inplace=True)\n",
    "\n",
    "# Group by the 'CreditScoreEsEquifaxRisk' column to calculate approval rate\n",
    "approval_rate_by_credit_score = (\n",
    "    filtered_data.groupby('CreditScoreEeMini_Cleaned')['Target']\n",
    "    .apply(lambda x: (x == 0).mean() * 100)\n",
    "    .sort_values(ascending=False)\n",
    ")\n",
    "\n",
    "# Display the results\n",
    "print(approval_rate_by_credit_score)\n",
    "\n",
    "# Plotting the approval rate by credit score\n",
    "approval_rate_by_credit_score.plot(kind='bar', color='skyblue', edgecolor='black')\n",
    "plt.title('Approval Rate by Credit Score (Equifax Risk)')\n",
    "plt.xlabel('Credit Score (Equifax Risk)')\n",
    "plt.ylabel('Approval Rate (%)')\n",
    "plt.xticks(rotation=45)\n",
    "plt.show()\n",
    "\n"
   ]
  },
  {
   "cell_type": "code",
   "execution_count": 48,
   "id": "c8597e9b-6c8f-4997-8202-8e395d661a29",
   "metadata": {},
   "outputs": [
    {
     "name": "stdout",
     "output_type": "stream",
     "text": [
      "Index(['ReportAsOfEOD', 'LoanId', 'LoanNumber', 'ListedOnUTC',\n",
      "       'BiddingStartedOn', 'BidsPortfolioManager', 'BidsApi', 'BidsManual',\n",
      "       'UserName', 'NewCreditCustomer', 'LoanApplicationStartedDate',\n",
      "       'LoanDate', 'ContractEndDate', 'FirstPaymentDate',\n",
      "       'MaturityDate_Original', 'MaturityDate_Last', 'ApplicationSignedHour',\n",
      "       'ApplicationSignedWeekday', 'VerificationType', 'LanguageCode', 'Age',\n",
      "       'DateOfBirth', 'Gender', 'Country', 'AppliedAmount', 'Amount',\n",
      "       'Interest', 'LoanDuration', 'MonthlyPayment', 'County', 'City',\n",
      "       'UseOfLoan', 'Education', 'MaritalStatus', 'EmploymentStatus',\n",
      "       'EmploymentDurationCurrentEmployer', 'EmploymentPosition',\n",
      "       'OccupationArea', 'HomeOwnershipType', 'IncomeFromPrincipalEmployer',\n",
      "       'IncomeFromPension', 'IncomeFromFamilyAllowance',\n",
      "       'IncomeFromSocialWelfare', 'IncomeFromLeavePay',\n",
      "       'IncomeFromChildSupport', 'IncomeOther', 'IncomeTotal',\n",
      "       'ExistingLiabilities', 'LiabilitiesTotal', 'RefinanceLiabilities',\n",
      "       'DebtToIncome', 'FreeCash', 'MonthlyPaymentDay',\n",
      "       'ActiveScheduleFirstPaymentReached', 'PlannedPrincipalTillDate',\n",
      "       'PlannedInterestTillDate', 'LastPaymentOn', 'ExpectedLoss',\n",
      "       'LossGivenDefault', 'ExpectedReturn', 'ProbabilityOfDefault',\n",
      "       'DefaultDate', 'PrincipalOverdueBySchedule', 'RecoveryStage',\n",
      "       'StageActiveSince', 'ModelVersion', 'Rating', 'Status', 'Restructured',\n",
      "       'ActiveLateCategory', 'WorseLateCategory', 'CreditScoreEsMicroL',\n",
      "       'CreditScoreEeMini', 'PrincipalPaymentsMade',\n",
      "       'InterestAndPenaltyPaymentsMade', 'PrincipalWriteOffs',\n",
      "       'InterestAndPenaltyWriteOffs', 'PrincipalBalance',\n",
      "       'InterestAndPenaltyBalance', 'NoOfPreviousLoansBeforeLoan',\n",
      "       'AmountOfPreviousLoansBeforeLoan', 'PreviousRepaymentsBeforeLoan',\n",
      "       'PreviousEarlyRepaymentsBefoleLoan',\n",
      "       'PreviousEarlyRepaymentsCountBeforeLoan', 'NextPaymentDate',\n",
      "       'NextPaymentNr', 'NrOfScheduledPayments', 'PrincipalDebtServicingCost',\n",
      "       'InterestAndPenaltyDebtServicingCost',\n",
      "       'ActiveScheduleFirstPaymentReached_Cleaned', 'Target',\n",
      "       'CreditScoreEeMini_Cleaned', 'IncomeBracket'],\n",
      "      dtype='object')\n"
     ]
    }
   ],
   "source": [
    "print(filtered_data.columns)\n"
   ]
  },
  {
   "cell_type": "code",
   "execution_count": 49,
   "id": "2761d8f0-2382-4daa-9f99-4098b8427faa",
   "metadata": {},
   "outputs": [],
   "source": [
    "# Save the filtered_data DataFrame to a CSV file\n",
    "filtered_data.to_csv('filtered_data.csv', index=False)\n"
   ]
  },
  {
   "cell_type": "code",
   "execution_count": 51,
   "id": "df55d433-f10c-4e7f-909b-56f581e10fea",
   "metadata": {},
   "outputs": [
    {
     "name": "stderr",
     "output_type": "stream",
     "text": [
      "C:\\Users\\Lenovo\\AppData\\Local\\Temp\\ipykernel_10332\\4161013210.py:1: SettingWithCopyWarning: \n",
      "A value is trying to be set on a copy of a slice from a DataFrame.\n",
      "Try using .loc[row_indexer,col_indexer] = value instead\n",
      "\n",
      "See the caveats in the documentation: https://pandas.pydata.org/pandas-docs/stable/user_guide/indexing.html#returning-a-view-versus-a-copy\n",
      "  filtered_data['CreditScoreEeMini'] = filtered_data['CreditScoreEeMini'].fillna(-1)\n"
     ]
    }
   ],
   "source": [
    "filtered_data['CreditScoreEeMini'] = filtered_data['CreditScoreEeMini'].fillna(-1)\n"
   ]
  },
  {
   "cell_type": "code",
   "execution_count": 64,
   "id": "e4bb17b4-2af9-4a18-9eca-62a24ee06d57",
   "metadata": {},
   "outputs": [
    {
     "name": "stdout",
     "output_type": "stream",
     "text": [
      "Index(['ReportAsOfEOD', 'LoanId', 'LoanNumber', 'ListedOnUTC',\n",
      "       'BiddingStartedOn', 'BidsPortfolioManager', 'BidsApi', 'BidsManual',\n",
      "       'UserName', 'NewCreditCustomer', 'LoanApplicationStartedDate',\n",
      "       'LoanDate', 'ContractEndDate', 'FirstPaymentDate',\n",
      "       'MaturityDate_Original', 'MaturityDate_Last', 'ApplicationSignedHour',\n",
      "       'ApplicationSignedWeekday', 'VerificationType', 'LanguageCode', 'Age',\n",
      "       'DateOfBirth', 'Gender', 'Country', 'AppliedAmount', 'Amount',\n",
      "       'Interest', 'LoanDuration', 'MonthlyPayment', 'County', 'City',\n",
      "       'UseOfLoan', 'Education', 'MaritalStatus', 'EmploymentStatus',\n",
      "       'EmploymentDurationCurrentEmployer', 'EmploymentPosition',\n",
      "       'OccupationArea', 'HomeOwnershipType', 'IncomeFromPrincipalEmployer',\n",
      "       'IncomeFromPension', 'IncomeFromFamilyAllowance',\n",
      "       'IncomeFromSocialWelfare', 'IncomeFromLeavePay',\n",
      "       'IncomeFromChildSupport', 'IncomeOther', 'IncomeTotal',\n",
      "       'ExistingLiabilities', 'LiabilitiesTotal', 'RefinanceLiabilities',\n",
      "       'DebtToIncome', 'FreeCash', 'MonthlyPaymentDay',\n",
      "       'ActiveScheduleFirstPaymentReached', 'PlannedInterestTillDate',\n",
      "       'LastPaymentOn', 'ExpectedLoss', 'LossGivenDefault', 'ExpectedReturn',\n",
      "       'ProbabilityOfDefault', 'DefaultDate', 'PrincipalOverdueBySchedule',\n",
      "       'StageActiveSince', 'ModelVersion', 'Rating', 'Status', 'Restructured',\n",
      "       'WorseLateCategory', 'CreditScoreEsMicroL', 'PrincipalPaymentsMade',\n",
      "       'InterestAndPenaltyPaymentsMade', 'PrincipalBalance',\n",
      "       'InterestAndPenaltyBalance', 'NoOfPreviousLoansBeforeLoan',\n",
      "       'AmountOfPreviousLoansBeforeLoan', 'PreviousRepaymentsBeforeLoan',\n",
      "       'PreviousEarlyRepaymentsCountBeforeLoan', 'NextPaymentNr',\n",
      "       'NrOfScheduledPayments', 'Target', 'IncomeBracket'],\n",
      "      dtype='object')\n"
     ]
    }
   ],
   "source": [
    "print(filtered_data.columns)\n"
   ]
  },
  {
   "cell_type": "code",
   "execution_count": 52,
   "id": "bde1fda3-c939-438a-898f-8e973fc4ac29",
   "metadata": {},
   "outputs": [
    {
     "name": "stderr",
     "output_type": "stream",
     "text": [
      "C:\\Users\\Lenovo\\AppData\\Local\\Temp\\ipykernel_10332\\1525332292.py:4: SettingWithCopyWarning: \n",
      "A value is trying to be set on a copy of a slice from a DataFrame.\n",
      "Try using .loc[row_indexer,col_indexer] = value instead\n",
      "\n",
      "See the caveats in the documentation: https://pandas.pydata.org/pandas-docs/stable/user_guide/indexing.html#returning-a-view-versus-a-copy\n",
      "  filtered_data['CreditScoreEeMini'] = pd.to_numeric(filtered_data['CreditScoreEeMini'], errors='coerce')\n",
      "C:\\Users\\Lenovo\\AppData\\Local\\Temp\\ipykernel_10332\\1525332292.py:7: SettingWithCopyWarning: \n",
      "A value is trying to be set on a copy of a slice from a DataFrame.\n",
      "Try using .loc[row_indexer,col_indexer] = value instead\n",
      "\n",
      "See the caveats in the documentation: https://pandas.pydata.org/pandas-docs/stable/user_guide/indexing.html#returning-a-view-versus-a-copy\n",
      "  filtered_data['CreditScoreEeMini'] = filtered_data['CreditScoreEeMini'].fillna(-1)\n"
     ]
    },
    {
     "data": {
      "text/html": [
       "<div>\n",
       "<style scoped>\n",
       "    .dataframe tbody tr th:only-of-type {\n",
       "        vertical-align: middle;\n",
       "    }\n",
       "\n",
       "    .dataframe tbody tr th {\n",
       "        vertical-align: top;\n",
       "    }\n",
       "\n",
       "    .dataframe thead th {\n",
       "        text-align: right;\n",
       "    }\n",
       "</style>\n",
       "<table border=\"1\" class=\"dataframe\">\n",
       "  <thead>\n",
       "    <tr style=\"text-align: right;\">\n",
       "      <th></th>\n",
       "      <th>ReportAsOfEOD</th>\n",
       "      <th>LoanId</th>\n",
       "      <th>LoanNumber</th>\n",
       "      <th>ListedOnUTC</th>\n",
       "      <th>BiddingStartedOn</th>\n",
       "      <th>BidsPortfolioManager</th>\n",
       "      <th>BidsApi</th>\n",
       "      <th>BidsManual</th>\n",
       "      <th>UserName</th>\n",
       "      <th>NewCreditCustomer</th>\n",
       "      <th>...</th>\n",
       "      <th>PreviousEarlyRepaymentsCountBeforeLoan</th>\n",
       "      <th>NextPaymentDate</th>\n",
       "      <th>NextPaymentNr</th>\n",
       "      <th>NrOfScheduledPayments</th>\n",
       "      <th>PrincipalDebtServicingCost</th>\n",
       "      <th>InterestAndPenaltyDebtServicingCost</th>\n",
       "      <th>ActiveScheduleFirstPaymentReached_Cleaned</th>\n",
       "      <th>Target</th>\n",
       "      <th>CreditScoreEeMini_Cleaned</th>\n",
       "      <th>IncomeBracket</th>\n",
       "    </tr>\n",
       "  </thead>\n",
       "  <tbody>\n",
       "    <tr>\n",
       "      <th>0</th>\n",
       "      <td>2020-01-27</td>\n",
       "      <td>F0660C80-83F3-4A97-8DA0-9C250112D6EC</td>\n",
       "      <td>659</td>\n",
       "      <td>2009-06-11 16:40:39</td>\n",
       "      <td>2009-06-11 16:40:39</td>\n",
       "      <td>0</td>\n",
       "      <td>0</td>\n",
       "      <td>115.0410</td>\n",
       "      <td>KARU</td>\n",
       "      <td>True</td>\n",
       "      <td>...</td>\n",
       "      <td>0</td>\n",
       "      <td>NaN</td>\n",
       "      <td>NaN</td>\n",
       "      <td>NaN</td>\n",
       "      <td>0.0</td>\n",
       "      <td>0.0</td>\n",
       "      <td>True</td>\n",
       "      <td>0</td>\n",
       "      <td>Unknown</td>\n",
       "      <td>Very High Income</td>\n",
       "    </tr>\n",
       "    <tr>\n",
       "      <th>1</th>\n",
       "      <td>2020-01-27</td>\n",
       "      <td>978BB85B-1C69-4D51-8447-9C240104A3A2</td>\n",
       "      <td>654</td>\n",
       "      <td>2009-06-10 15:48:57</td>\n",
       "      <td>2009-06-10 15:48:57</td>\n",
       "      <td>0</td>\n",
       "      <td>0</td>\n",
       "      <td>140.6057</td>\n",
       "      <td>koort681</td>\n",
       "      <td>False</td>\n",
       "      <td>...</td>\n",
       "      <td>0</td>\n",
       "      <td>NaN</td>\n",
       "      <td>NaN</td>\n",
       "      <td>NaN</td>\n",
       "      <td>0.0</td>\n",
       "      <td>0.0</td>\n",
       "      <td>True</td>\n",
       "      <td>0</td>\n",
       "      <td>Unknown</td>\n",
       "      <td>Very High Income</td>\n",
       "    </tr>\n",
       "    <tr>\n",
       "      <th>2</th>\n",
       "      <td>2020-01-27</td>\n",
       "      <td>EA44027E-7FA7-4BB2-846D-9C1F013C8A22</td>\n",
       "      <td>641</td>\n",
       "      <td>2009-06-05 19:12:29</td>\n",
       "      <td>2009-06-05 19:12:29</td>\n",
       "      <td>0</td>\n",
       "      <td>0</td>\n",
       "      <td>319.5580</td>\n",
       "      <td>0ie</td>\n",
       "      <td>True</td>\n",
       "      <td>...</td>\n",
       "      <td>0</td>\n",
       "      <td>NaN</td>\n",
       "      <td>NaN</td>\n",
       "      <td>NaN</td>\n",
       "      <td>0.0</td>\n",
       "      <td>0.0</td>\n",
       "      <td>True</td>\n",
       "      <td>1</td>\n",
       "      <td>Unknown</td>\n",
       "      <td>High Income</td>\n",
       "    </tr>\n",
       "    <tr>\n",
       "      <th>3</th>\n",
       "      <td>2020-01-27</td>\n",
       "      <td>CE67AD25-2951-4BEE-96BD-9C2700C61EF4</td>\n",
       "      <td>668</td>\n",
       "      <td>2009-06-13 12:01:20</td>\n",
       "      <td>2009-06-13 12:01:20</td>\n",
       "      <td>0</td>\n",
       "      <td>0</td>\n",
       "      <td>57.5205</td>\n",
       "      <td>Alyona</td>\n",
       "      <td>True</td>\n",
       "      <td>...</td>\n",
       "      <td>0</td>\n",
       "      <td>NaN</td>\n",
       "      <td>NaN</td>\n",
       "      <td>NaN</td>\n",
       "      <td>0.0</td>\n",
       "      <td>0.0</td>\n",
       "      <td>True</td>\n",
       "      <td>0</td>\n",
       "      <td>Unknown</td>\n",
       "      <td>Very High Income</td>\n",
       "    </tr>\n",
       "    <tr>\n",
       "      <th>4</th>\n",
       "      <td>2020-01-27</td>\n",
       "      <td>9408BF8C-B159-4D6A-9D61-9C2400A986E3</td>\n",
       "      <td>652</td>\n",
       "      <td>2009-06-10 10:17:13</td>\n",
       "      <td>2009-06-10 10:17:13</td>\n",
       "      <td>0</td>\n",
       "      <td>0</td>\n",
       "      <td>319.5582</td>\n",
       "      <td>Kai</td>\n",
       "      <td>True</td>\n",
       "      <td>...</td>\n",
       "      <td>0</td>\n",
       "      <td>NaN</td>\n",
       "      <td>NaN</td>\n",
       "      <td>NaN</td>\n",
       "      <td>0.0</td>\n",
       "      <td>0.0</td>\n",
       "      <td>True</td>\n",
       "      <td>0</td>\n",
       "      <td>Unknown</td>\n",
       "      <td>High Income</td>\n",
       "    </tr>\n",
       "  </tbody>\n",
       "</table>\n",
       "<p>5 rows × 93 columns</p>\n",
       "</div>"
      ],
      "text/plain": [
       "  ReportAsOfEOD                                LoanId  LoanNumber  \\\n",
       "0    2020-01-27  F0660C80-83F3-4A97-8DA0-9C250112D6EC         659   \n",
       "1    2020-01-27  978BB85B-1C69-4D51-8447-9C240104A3A2         654   \n",
       "2    2020-01-27  EA44027E-7FA7-4BB2-846D-9C1F013C8A22         641   \n",
       "3    2020-01-27  CE67AD25-2951-4BEE-96BD-9C2700C61EF4         668   \n",
       "4    2020-01-27  9408BF8C-B159-4D6A-9D61-9C2400A986E3         652   \n",
       "\n",
       "           ListedOnUTC     BiddingStartedOn  BidsPortfolioManager  BidsApi  \\\n",
       "0  2009-06-11 16:40:39  2009-06-11 16:40:39                     0        0   \n",
       "1  2009-06-10 15:48:57  2009-06-10 15:48:57                     0        0   \n",
       "2  2009-06-05 19:12:29  2009-06-05 19:12:29                     0        0   \n",
       "3  2009-06-13 12:01:20  2009-06-13 12:01:20                     0        0   \n",
       "4  2009-06-10 10:17:13  2009-06-10 10:17:13                     0        0   \n",
       "\n",
       "   BidsManual  UserName  NewCreditCustomer  ...  \\\n",
       "0    115.0410      KARU               True  ...   \n",
       "1    140.6057  koort681              False  ...   \n",
       "2    319.5580       0ie               True  ...   \n",
       "3     57.5205    Alyona               True  ...   \n",
       "4    319.5582       Kai               True  ...   \n",
       "\n",
       "  PreviousEarlyRepaymentsCountBeforeLoan NextPaymentDate NextPaymentNr  \\\n",
       "0                                      0             NaN           NaN   \n",
       "1                                      0             NaN           NaN   \n",
       "2                                      0             NaN           NaN   \n",
       "3                                      0             NaN           NaN   \n",
       "4                                      0             NaN           NaN   \n",
       "\n",
       "  NrOfScheduledPayments PrincipalDebtServicingCost  \\\n",
       "0                   NaN                        0.0   \n",
       "1                   NaN                        0.0   \n",
       "2                   NaN                        0.0   \n",
       "3                   NaN                        0.0   \n",
       "4                   NaN                        0.0   \n",
       "\n",
       "  InterestAndPenaltyDebtServicingCost  \\\n",
       "0                                 0.0   \n",
       "1                                 0.0   \n",
       "2                                 0.0   \n",
       "3                                 0.0   \n",
       "4                                 0.0   \n",
       "\n",
       "   ActiveScheduleFirstPaymentReached_Cleaned  Target  \\\n",
       "0                                       True       0   \n",
       "1                                       True       0   \n",
       "2                                       True       1   \n",
       "3                                       True       0   \n",
       "4                                       True       0   \n",
       "\n",
       "   CreditScoreEeMini_Cleaned     IncomeBracket  \n",
       "0                    Unknown  Very High Income  \n",
       "1                    Unknown  Very High Income  \n",
       "2                    Unknown       High Income  \n",
       "3                    Unknown  Very High Income  \n",
       "4                    Unknown       High Income  \n",
       "\n",
       "[5 rows x 93 columns]"
      ]
     },
     "execution_count": 52,
     "metadata": {},
     "output_type": "execute_result"
    }
   ],
   "source": [
    "import pandas as pd\n",
    "\n",
    "# Convert the column to float first\n",
    "filtered_data['CreditScoreEeMini'] = pd.to_numeric(filtered_data['CreditScoreEeMini'], errors='coerce')\n",
    "\n",
    "# Now fill the missing values with -1\n",
    "filtered_data['CreditScoreEeMini'] = filtered_data['CreditScoreEeMini'].fillna(-1)\n",
    "\n",
    "# Display the first few rows to confirm the changes\n",
    "filtered_data.head()\n"
   ]
  },
  {
   "cell_type": "code",
   "execution_count": 53,
   "id": "c43a92eb-843e-4bba-9625-b6bd64ffd04e",
   "metadata": {},
   "outputs": [
    {
     "name": "stdout",
     "output_type": "stream",
     "text": [
      "float64\n"
     ]
    }
   ],
   "source": [
    "# Check the data type of the column\n",
    "print(filtered_data['CreditScoreEeMini'].dtype)\n"
   ]
  },
  {
   "cell_type": "code",
   "execution_count": 56,
   "id": "ea7c9eca-1761-4a38-be83-630bf4ca639d",
   "metadata": {},
   "outputs": [],
   "source": [
    "filtered_data.to_csv('preprocessed_data.csv', index=False)\n"
   ]
  },
  {
   "cell_type": "code",
   "execution_count": 60,
   "id": "c22eda17-9cf0-499a-8236-85e641cd2c14",
   "metadata": {},
   "outputs": [
    {
     "name": "stdout",
     "output_type": "stream",
     "text": [
      "High-risk loan count: 43015\n",
      "Total loan count: 77341\n"
     ]
    }
   ],
   "source": [
    "high_risk_count =filtered_data[filtered_data['CreditScoreEeMini'] < 600].shape[0]\n",
    "total_loans_count = filtered_data.shape[0]\n",
    "\n",
    "print(f\"High-risk loan count: {high_risk_count}\")\n",
    "print(f\"Total loan count: {total_loans_count}\")\n"
   ]
  },
  {
   "cell_type": "code",
   "execution_count": 61,
   "id": "51fb8b96-ab8c-4248-9d37-13ebeecb8e31",
   "metadata": {},
   "outputs": [
    {
     "ename": "NameError",
     "evalue": "name 'Amount' is not defined",
     "output_type": "error",
     "traceback": [
      "\u001b[1;31m---------------------------------------------------------------------------\u001b[0m",
      "\u001b[1;31mNameError\u001b[0m                                 Traceback (most recent call last)",
      "Cell \u001b[1;32mIn[61], line 8\u001b[0m\n\u001b[0;32m      4\u001b[0m \u001b[38;5;28;01mimport\u001b[39;00m \u001b[38;5;21;01mseaborn\u001b[39;00m \u001b[38;5;28;01mas\u001b[39;00m \u001b[38;5;21;01msns\u001b[39;00m\n\u001b[0;32m      6\u001b[0m \u001b[38;5;66;03m# Assuming the preamble is correctly setting up the dataset:\u001b[39;00m\n\u001b[0;32m      7\u001b[0m dataset \u001b[38;5;241m=\u001b[39m pd\u001b[38;5;241m.\u001b[39mDataFrame({\n\u001b[1;32m----> 8\u001b[0m     \u001b[38;5;124m'\u001b[39m\u001b[38;5;124mAmount\u001b[39m\u001b[38;5;124m'\u001b[39m: pd\u001b[38;5;241m.\u001b[39mto_numeric(\u001b[43mAmount\u001b[49m, errors\u001b[38;5;241m=\u001b[39m\u001b[38;5;124m'\u001b[39m\u001b[38;5;124mcoerce\u001b[39m\u001b[38;5;124m'\u001b[39m),\n\u001b[0;32m      9\u001b[0m     \u001b[38;5;124m'\u001b[39m\u001b[38;5;124mCreditScoreEeMini\u001b[39m\u001b[38;5;124m'\u001b[39m: pd\u001b[38;5;241m.\u001b[39mto_numeric(CreditScoreEeMini, errors\u001b[38;5;241m=\u001b[39m\u001b[38;5;124m'\u001b[39m\u001b[38;5;124mcoerce\u001b[39m\u001b[38;5;124m'\u001b[39m),\n\u001b[0;32m     10\u001b[0m     \u001b[38;5;124m'\u001b[39m\u001b[38;5;124mDebtToIncome\u001b[39m\u001b[38;5;124m'\u001b[39m: pd\u001b[38;5;241m.\u001b[39mto_numeric(DebtToIncome, errors\u001b[38;5;241m=\u001b[39m\u001b[38;5;124m'\u001b[39m\u001b[38;5;124mcoerce\u001b[39m\u001b[38;5;124m'\u001b[39m),\n\u001b[0;32m     11\u001b[0m     \u001b[38;5;124m'\u001b[39m\u001b[38;5;124mEmploymentDurationCurrentEmployer\u001b[39m\u001b[38;5;124m'\u001b[39m: pd\u001b[38;5;241m.\u001b[39mto_numeric(EmploymentDurationCurrentEmployer, errors\u001b[38;5;241m=\u001b[39m\u001b[38;5;124m'\u001b[39m\u001b[38;5;124mcoerce\u001b[39m\u001b[38;5;124m'\u001b[39m)\n\u001b[0;32m     12\u001b[0m })\n\u001b[0;32m     14\u001b[0m \u001b[38;5;66;03m# Handle missing values (either drop or fill them)\u001b[39;00m\n\u001b[0;32m     15\u001b[0m dataset \u001b[38;5;241m=\u001b[39m dataset\u001b[38;5;241m.\u001b[39mdropna()  \u001b[38;5;66;03m# or dataset = dataset.fillna(0)\u001b[39;00m\n",
      "\u001b[1;31mNameError\u001b[0m: name 'Amount' is not defined"
     ]
    }
   ],
   "source": [
    "import pandas as pd\n",
    "import numpy as np\n",
    "import matplotlib.pyplot as plt\n",
    "import seaborn as sns\n",
    "\n",
    "# Assuming the preamble is correctly setting up the dataset:\n",
    "dataset = pd.DataFrame({\n",
    "    'Amount': pd.to_numeric(Amount, errors='coerce'),\n",
    "    'CreditScoreEeMini': pd.to_numeric(CreditScoreEeMini, errors='coerce'),\n",
    "    'DebtToIncome': pd.to_numeric(DebtToIncome, errors='coerce'),\n",
    "    'EmploymentDurationCurrentEmployer': pd.to_numeric(EmploymentDurationCurrentEmployer, errors='coerce')\n",
    "})\n",
    "\n",
    "# Handle missing values (either drop or fill them)\n",
    "dataset = dataset.dropna()  # or dataset = dataset.fillna(0)\n",
    "\n",
    "# Create the heatmap\n",
    "f, ax = plt.subplots(figsize=(14,10))\n",
    "sns.heatmap(dataset.corr(), annot=True, fmt=\".1f\", ax=ax)\n",
    "plt.show()\n"
   ]
  },
  {
   "cell_type": "code",
   "execution_count": 62,
   "id": "5c1b345a-60c1-4f96-aa23-f962e980f514",
   "metadata": {},
   "outputs": [
    {
     "ename": "NameError",
     "evalue": "name 'dataset' is not defined",
     "output_type": "error",
     "traceback": [
      "\u001b[1;31m---------------------------------------------------------------------------\u001b[0m",
      "\u001b[1;31mNameError\u001b[0m                                 Traceback (most recent call last)",
      "Cell \u001b[1;32mIn[62], line 15\u001b[0m\n\u001b[0;32m      4\u001b[0m \u001b[38;5;28;01mimport\u001b[39;00m \u001b[38;5;21;01mseaborn\u001b[39;00m \u001b[38;5;28;01mas\u001b[39;00m \u001b[38;5;21;01msns\u001b[39;00m\n\u001b[0;32m      6\u001b[0m \u001b[38;5;66;03m# Assuming you have the dataset already loaded or assigned\u001b[39;00m\n\u001b[0;32m      7\u001b[0m \u001b[38;5;66;03m# If these columns come from an existing dataset, you can use the dataset directly\u001b[39;00m\n\u001b[0;32m      8\u001b[0m \u001b[38;5;66;03m# Replace 'dataset' with the appropriate name if it's already loaded elsewhere\u001b[39;00m\n\u001b[1;32m   (...)\u001b[0m\n\u001b[0;32m     12\u001b[0m \n\u001b[0;32m     13\u001b[0m \u001b[38;5;66;03m# If your dataset is already defined:\u001b[39;00m\n\u001b[0;32m     14\u001b[0m dataset \u001b[38;5;241m=\u001b[39m pd\u001b[38;5;241m.\u001b[39mDataFrame({\n\u001b[1;32m---> 15\u001b[0m     \u001b[38;5;124m'\u001b[39m\u001b[38;5;124mAmount\u001b[39m\u001b[38;5;124m'\u001b[39m: pd\u001b[38;5;241m.\u001b[39mto_numeric(\u001b[43mdataset\u001b[49m[\u001b[38;5;124m'\u001b[39m\u001b[38;5;124mAmount\u001b[39m\u001b[38;5;124m'\u001b[39m], errors\u001b[38;5;241m=\u001b[39m\u001b[38;5;124m'\u001b[39m\u001b[38;5;124mcoerce\u001b[39m\u001b[38;5;124m'\u001b[39m),\n\u001b[0;32m     16\u001b[0m     \u001b[38;5;124m'\u001b[39m\u001b[38;5;124mCreditScoreEeMini\u001b[39m\u001b[38;5;124m'\u001b[39m: pd\u001b[38;5;241m.\u001b[39mto_numeric(dataset[\u001b[38;5;124m'\u001b[39m\u001b[38;5;124mCreditScoreEeMini\u001b[39m\u001b[38;5;124m'\u001b[39m], errors\u001b[38;5;241m=\u001b[39m\u001b[38;5;124m'\u001b[39m\u001b[38;5;124mcoerce\u001b[39m\u001b[38;5;124m'\u001b[39m),\n\u001b[0;32m     17\u001b[0m     \u001b[38;5;124m'\u001b[39m\u001b[38;5;124mDebtToIncome\u001b[39m\u001b[38;5;124m'\u001b[39m: pd\u001b[38;5;241m.\u001b[39mto_numeric(dataset[\u001b[38;5;124m'\u001b[39m\u001b[38;5;124mDebtToIncome\u001b[39m\u001b[38;5;124m'\u001b[39m], errors\u001b[38;5;241m=\u001b[39m\u001b[38;5;124m'\u001b[39m\u001b[38;5;124mcoerce\u001b[39m\u001b[38;5;124m'\u001b[39m),\n\u001b[0;32m     18\u001b[0m     \u001b[38;5;124m'\u001b[39m\u001b[38;5;124mEmploymentDurationCurrentEmployer\u001b[39m\u001b[38;5;124m'\u001b[39m: pd\u001b[38;5;241m.\u001b[39mto_numeric(dataset[\u001b[38;5;124m'\u001b[39m\u001b[38;5;124mEmploymentDurationCurrentEmployer\u001b[39m\u001b[38;5;124m'\u001b[39m], errors\u001b[38;5;241m=\u001b[39m\u001b[38;5;124m'\u001b[39m\u001b[38;5;124mcoerce\u001b[39m\u001b[38;5;124m'\u001b[39m)\n\u001b[0;32m     19\u001b[0m })\n\u001b[0;32m     21\u001b[0m \u001b[38;5;66;03m# Handle missing values by dropping rows with NaN\u001b[39;00m\n\u001b[0;32m     22\u001b[0m dataset \u001b[38;5;241m=\u001b[39m dataset\u001b[38;5;241m.\u001b[39mdropna()  \u001b[38;5;66;03m# or dataset = dataset.fillna(0)\u001b[39;00m\n",
      "\u001b[1;31mNameError\u001b[0m: name 'dataset' is not defined"
     ]
    }
   ],
   "source": [
    "import pandas as pd\n",
    "import numpy as np\n",
    "import matplotlib.pyplot as plt\n",
    "import seaborn as sns\n",
    "\n",
    "# Assuming you have the dataset already loaded or assigned\n",
    "# If these columns come from an existing dataset, you can use the dataset directly\n",
    "# Replace 'dataset' with the appropriate name if it's already loaded elsewhere\n",
    "\n",
    "# Example loading from an existing CSV or dataset\n",
    "# dataset = pd.read_csv('your_dataset.csv')\n",
    "\n",
    "# If your dataset is already defined:\n",
    "dataset = pd.DataFrame({\n",
    "    'Amount': pd.to_numeric(dataset['Amount'], errors='coerce'),\n",
    "    'CreditScoreEeMini': pd.to_numeric(dataset['CreditScoreEeMini'], errors='coerce'),\n",
    "    'DebtToIncome': pd.to_numeric(dataset['DebtToIncome'], errors='coerce'),\n",
    "    'EmploymentDurationCurrentEmployer': pd.to_numeric(dataset['EmploymentDurationCurrentEmployer'], errors='coerce')\n",
    "})\n",
    "\n",
    "# Handle missing values by dropping rows with NaN\n",
    "dataset = dataset.dropna()  # or dataset = dataset.fillna(0)\n",
    "\n",
    "# Create the heatmap for correlation between the numeric columns\n",
    "f, ax = plt.subplots(figsize=(14, 10))\n",
    "sns.heatmap(dataset.corr(), annot=True, fmt=\".1f\", ax=ax)\n",
    "plt.show()\n"
   ]
  },
  {
   "cell_type": "code",
   "execution_count": null,
   "id": "2a91ced7-2c6e-4797-a709-321d841608f0",
   "metadata": {},
   "outputs": [],
   "source": []
  }
 ],
 "metadata": {
  "kernelspec": {
   "display_name": "Python 3 (ipykernel)",
   "language": "python",
   "name": "python3"
  },
  "language_info": {
   "codemirror_mode": {
    "name": "ipython",
    "version": 3
   },
   "file_extension": ".py",
   "mimetype": "text/x-python",
   "name": "python",
   "nbconvert_exporter": "python",
   "pygments_lexer": "ipython3",
   "version": "3.12.4"
  }
 },
 "nbformat": 4,
 "nbformat_minor": 5
}
